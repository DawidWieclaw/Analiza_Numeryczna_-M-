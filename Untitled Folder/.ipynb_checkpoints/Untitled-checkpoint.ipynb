{
 "cells": [
  {
   "cell_type": "code",
   "execution_count": 1,
   "metadata": {},
   "outputs": [],
   "source": [
    "Vis = [[[[[[0]*8]*8]*8]*8]*8]\n",
    "Stack = []"
   ]
  },
  {
   "cell_type": "code",
   "execution_count": 2,
   "metadata": {},
   "outputs": [],
   "source": [
    "#Sytuacja jest zbiorem wspolrzednych"
   ]
  },
  {
   "cell_type": "code",
   "execution_count": 3,
   "metadata": {},
   "outputs": [],
   "source": [
    "def sensBlack(s,i,j):\n",
    "    if i<0 or i>7 or j>7 or j<0: #ruch poza plansze\n",
    "        return False\n",
    "    if i==s.Wtx or j==s.Wty: #pod bicie wieży \n",
    "        print(\"XD\")\n",
    "        return False\n",
    "    if abs(i-s.Wkx)<2 and abs(j-s.Wky)<2:\n",
    "        return False #pod bicie króla\n",
    "    if i==s.Bkx and j==s.Bky: #brak zmiany\n",
    "        return 3.14\n",
    "    return True"
   ]
  },
  {
   "cell_type": "code",
   "execution_count": 4,
   "metadata": {},
   "outputs": [],
   "source": [
    "def sensWhiteKing(s,i,j): # jeszce wskakiwanie na pola wiezy i krola wzajemne\n",
    "    if i<0 or i>7 or j<0 or j>7: #ruch poza plansze\n",
    "        return False\n",
    "    if i==s.Wkx and j==s.Wky: #brak zmiany\n",
    "        return False\n",
    "    if abs(i-Wkx)<2 and abs(j-Wky)<2: # pod bicie króla\n",
    "        if i==s.Wtx or j==s.Wty: #ale chronione wieża\n",
    "            return True\n",
    "        return False #bez ochrony wieży\n",
    "    return True"
   ]
  },
  {
   "cell_type": "code",
   "execution_count": 5,
   "metadata": {},
   "outputs": [],
   "source": [
    "def sensWhiteTower(s,i,j):\n",
    "    if i==s.Wtx and j==s.Wty: #brak zmiany\n",
    "        return False\n",
    "    if i<0 or j<0 or i>7 or j>7:\n",
    "        return False\n",
    "    if abs(i-s.Bkx)<2 and abs(j-s.Bky)<2: # pod bicie króla\n",
    "        if abs(i-s.Wkx)<2 and abs(j-s.Wky)<2: # chronione królem\n",
    "            return True\n",
    "        return False\n",
    "    return True"
   ]
  },
  {
   "cell_type": "code",
   "execution_count": 6,
   "metadata": {},
   "outputs": [],
   "source": [
    "def ifMat(s): # czy w danej sytuacji wystepuje mat\n",
    "    sensRuch = s.sensowneRuchy(1)\n",
    "    b=False\n",
    "    if sensBlack(s, s.Bkx, s.Bky)==False: # czyli jest bicie\n",
    "        b=True\n",
    "    for x in sensRuch:#dla kazdego ruchu jest bicie\n",
    "        if sensBlack(x, x.Bkx, x.Bky)==True:\n",
    "            return False\n",
    "    if b==True:\n",
    "        return True\n",
    "    return 3.14 # pat"
   ]
  },
  {
   "cell_type": "code",
   "execution_count": 7,
   "metadata": {},
   "outputs": [],
   "source": [
    "class Sytuacja:\n",
    "    Bkx,Bky,Wkx,Wky,Wtx,Wty,m,n=0,0,0,0,0,0,0,0 # m = 1 to czarne m = 0  biale\n",
    "    rodzic = 0\n",
    "    odl = 0;\n",
    "    def nadajRodzica(s):\n",
    "        rodzic = s.Bkx,s.Bky,s.Wkx,s.Wky,s.Wtx,s.Wty;\n",
    "    def sensowneRuchy(self, m):\n",
    "        sensRuch = []\n",
    "        if m==1: # rusza sie czarny samotny krol\n",
    "            for i in range(self.Bkx-1, self.Bkx+1):\n",
    "                for j in range(self.Bky-1, self.Bky+1):\n",
    "                    if sensBlack(self,i,j):\n",
    "                        q = Sytuacja()\n",
    "                        q.Bkx, q.Bky, q.Wkx, q.Wky, q.Wtx, q.Wty, q.m,q.n=i,j,self.Wkx,self.Wky,self.Wtx,self.Wty,0,self.n+1\n",
    "                        sensRuch.append(q)\n",
    "        else:\n",
    "            for i in range(self.Wkx-1, self.Wkx+1):\n",
    "                for j in range(self.Wky-1, self.Wky+1):\n",
    "                    if sensWhiteKing(self,i,j):\n",
    "                        q = Sytuacja()\n",
    "                        q.Bkx, q.Bky, q.Wkx, q.Wky, q.Wtx, q.Wty, q.m,q.n=self.Bkx,self.Bky,i,j,self.Wtx,self.Wty,1,self.n+1\n",
    "                        sensRuch.append(q)\n",
    "            for i in range(0,8):\n",
    "                if sensWhiteTower(self, i, self.Wty):\n",
    "                    q = Sytuacja()\n",
    "                    q.Bkx, q.Bky, q.Wkx, q.Wky, q.Wtx, q.Wty, q.m,q.n=self.Bkx,self.Bky,self.Wkx,self.Wky,i,self.Wty,1,self.n+1\n",
    "                    sensRuch.append(q)\n",
    "                if sensWhiteTower(self, self.Wtx, i):\n",
    "                    q = Sytuacja()\n",
    "                    q.Bkx, q.Bky, q.Wkx, q.Wky, q.Wtx, q.Wty, q.m,q.n=self.Bkx,self.Bky,self.Wkx,self.Wky,self.Wtx,i,1,self.n+1\n",
    "                    sensRuch.append(q)\n",
    "        return sensRuch"
   ]
  },
  {
   "cell_type": "code",
   "execution_count": 12,
   "metadata": {},
   "outputs": [],
   "source": [
    "first = Sytuacja()\n",
    "first.Bkx, first.Bky, first.Wkx, first.Wky, first.Wtx, first.Wty, first.n, first.m=0,0,1,2,3,5,0,0\n",
    "#null = 0,0,0,0,0,0\n",
    "Stack.append(first) ## tutaj korzen bez rodzica\n",
    "debug = False\n",
    "def BFS(): ## jeszce odwiedzone\n",
    "    Vis[first.Bkx][first.Bky][first.Wkx][first.Wky][first.Wtx][first.Wty]=1\n",
    "    while len(Stack)>0:\n",
    "        u=Stack.pop(0)\n",
    "        p=ifMat(u)\n",
    "        print(sensBlack(u,u.Bkx, u.Bky))\n",
    "        if p==True: # mat\n",
    "            if debug:\n",
    "                zwrocRuchy()\n",
    "            print(u.n)\n",
    "            return\n",
    "        \n",
    "        if p==3.14: # pat\n",
    "            continue\n",
    "            \n",
    "        sensRuch = u.sensowneRuchy(u.m+1 % 2)\n",
    "        for x in sensRuch:\n",
    "            if not Vis[x.Bk][x.Bky][x.Wkx][x.Wky][x.Wtx][x.Wty]==1:\n",
    "                Vis[x.Bkx][x.Bky][x.Wkx][x.Wky][x.Wtx][x.Wty]=1\n",
    "                Stack.append(x)\n",
    "    return"
   ]
  },
  {
   "cell_type": "code",
   "execution_count": 13,
   "metadata": {},
   "outputs": [
    {
     "name": "stdout",
     "output_type": "stream",
     "text": [
      "3.14\n"
     ]
    }
   ],
   "source": [
    "BFS()"
   ]
  },
  {
   "cell_type": "code",
   "execution_count": null,
   "metadata": {},
   "outputs": [],
   "source": []
  }
 ],
 "metadata": {
  "kernelspec": {
   "display_name": "Python 3",
   "language": "python",
   "name": "python3"
  },
  "language_info": {
   "codemirror_mode": {
    "name": "ipython",
    "version": 3
   },
   "file_extension": ".py",
   "mimetype": "text/x-python",
   "name": "python",
   "nbconvert_exporter": "python",
   "pygments_lexer": "ipython3",
   "version": "3.6.7"
  }
 },
 "nbformat": 4,
 "nbformat_minor": 2
}
