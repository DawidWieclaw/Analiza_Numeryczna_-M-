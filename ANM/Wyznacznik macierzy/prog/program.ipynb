{
 "cells": [
  {
   "cell_type": "markdown",
   "metadata": {},
   "source": [
    "# Obliczanie wyznacznika macierzy przy pomocy eliminiacji z wyborem częściowym"
   ]
  },
  {
   "cell_type": "markdown",
   "metadata": {},
   "source": [
    "## Funkcja zamieniająca wiersze macierzy:"
   ]
  },
  {
   "cell_type": "code",
   "execution_count": 1,
   "metadata": {},
   "outputs": [
    {
     "data": {
      "text/plain": [
       "swapWerse (generic function with 1 method)"
      ]
     },
     "execution_count": 1,
     "metadata": {},
     "output_type": "execute_result"
    }
   ],
   "source": [
    "#k, m zamieniane wiersze, n rozmiar macierzy, M macierz\n",
    "using LinearAlgebra\n",
    "using Printf\n",
    "setprecision(32)\n",
    "function swapWerse(k, m, pi)\n",
    "    pi[m]=k\n",
    "    pi[k]=m\n",
    "end"
   ]
  },
  {
   "cell_type": "markdown",
   "metadata": {},
   "source": [
    "## Funkcja wypisująca macierz"
   ]
  },
  {
   "cell_type": "code",
   "execution_count": 2,
   "metadata": {},
   "outputs": [
    {
     "data": {
      "text/plain": [
       "wypisz (generic function with 1 method)"
      ]
     },
     "execution_count": 2,
     "metadata": {},
     "output_type": "execute_result"
    }
   ],
   "source": [
    "function wypisz(M)\n",
    "    n,m=size(M)\n",
    "    for i=1:n\n",
    "        for j=1:n\n",
    "            @printf(\"%.1f \", M[i,j])\n",
    "        end\n",
    "        @printf(\"\\n\")\n",
    "    end\n",
    "end"
   ]
  },
  {
   "cell_type": "code",
   "execution_count": 3,
   "metadata": {},
   "outputs": [
    {
     "data": {
      "text/plain": [
       "modulo (generic function with 1 method)"
      ]
     },
     "execution_count": 3,
     "metadata": {},
     "output_type": "execute_result"
    }
   ],
   "source": [
    "#Funkcja pomocnicza obliczająca |x|\n",
    "function modulo(x)\n",
    "    if x>=0\n",
    "        return x\n",
    "    end\n",
    "    return -x\n",
    "end"
   ]
  },
  {
   "cell_type": "markdown",
   "metadata": {},
   "source": [
    "## Funkcja poszukująca maksymalnego elementu który zastąpiłby zero w razie jego wystąpienia podczas wykonywania się algorytmu eliminacji Gaussa:"
   ]
  },
  {
   "cell_type": "code",
   "execution_count": 4,
   "metadata": {},
   "outputs": [
    {
     "data": {
      "text/plain": [
       "findNotZero (generic function with 1 method)"
      ]
     },
     "execution_count": 4,
     "metadata": {},
     "output_type": "execute_result"
    }
   ],
   "source": [
    "#Zwracany jest numer wiersza\n",
    "function findNotZero(k::Integer, M, pi)\n",
    "    max=0.0\n",
    "    m=k\n",
    "    n,n=size(M)\n",
    "    for i=k:n\n",
    "        if abs(M[pi[i],k])>max\n",
    "            max=abs(M[pi[i],k])\n",
    "            m=i\n",
    "        end\n",
    "    end\n",
    "    if max==0.0\n",
    "        return false\n",
    "    end\n",
    "    return m\n",
    "end"
   ]
  },
  {
   "cell_type": "markdown",
   "metadata": {},
   "source": [
    "## Algorytm eliminacji Gaussa z wyborem częściowym:"
   ]
  },
  {
   "cell_type": "code",
   "execution_count": 5,
   "metadata": {},
   "outputs": [
    {
     "data": {
      "text/plain": [
       "elimination (generic function with 1 method)"
      ]
     },
     "execution_count": 5,
     "metadata": {},
     "output_type": "execute_result"
    }
   ],
   "source": [
    "#rozklad LU\n",
    "function elimination(M)\n",
    "    n,n=size(M)\n",
    "    pi=Array{Integer,1}(undef, n)\n",
    "    \n",
    "    #uzupełnianie tablicy permutacji wierszy macierzy\n",
    "    for i=1:n\n",
    "        pi[i]=i\n",
    "    end\n",
    "    \n",
    "    #eliminacja\n",
    "    for i=1:n-1 \n",
    "        #wybór częściowy\n",
    "        if M[pi[i],i]==0.0\n",
    "            s = findNotZero(i, M, pi)\n",
    "            if s==false\n",
    "                return 0.0\n",
    "            end\n",
    "            swapWerse(pi[i],s,pi)\n",
    "        end\n",
    "        \n",
    "        #częśc zasadnicza\n",
    "        for k=i+1:n\n",
    "            for l=i+1:n\n",
    "                b=M[pi[i],l]\n",
    "                b/=M[pi[i],i]\n",
    "                b*=M[pi[k],i]\n",
    "                M[pi[k],l]-=b\n",
    "            end\n",
    "            M[pi[k],i]=0.0  #M[pi[k],i]/M[pi[i],i]\n",
    "        end\n",
    "    end\n",
    "    #obliczanie wyznacznika\n",
    "    k=1.0\n",
    "    for i=1:n\n",
    "        k*=M[pi[i],i]\n",
    "    end\n",
    "    return k\n",
    "end"
   ]
  },
  {
   "cell_type": "markdown",
   "metadata": {},
   "source": [
    "## Funkcja zwracająca macierz Hilberta $n \\times n$:"
   ]
  },
  {
   "cell_type": "code",
   "execution_count": 6,
   "metadata": {},
   "outputs": [
    {
     "data": {
      "text/plain": [
       "Hilbert (generic function with 1 method)"
      ]
     },
     "execution_count": 6,
     "metadata": {},
     "output_type": "execute_result"
    }
   ],
   "source": [
    "function Hilbert(n::Integer)\n",
    "    M=Array{BigFloat,2}(undef, n,n)\n",
    "    for i=1:n\n",
    "        for j=1:n\n",
    "            M[i,j]=BigFloat(1/(i+j-1))\n",
    "        end\n",
    "    end\n",
    "    return M\n",
    "end"
   ]
  },
  {
   "cell_type": "markdown",
   "metadata": {},
   "source": [
    "## Funkcja zwracająca macierz Pei $n \\times n$ z parametrem $p$:"
   ]
  },
  {
   "cell_type": "code",
   "execution_count": 7,
   "metadata": {},
   "outputs": [
    {
     "data": {
      "text/plain": [
       "Pei (generic function with 1 method)"
      ]
     },
     "execution_count": 7,
     "metadata": {},
     "output_type": "execute_result"
    }
   ],
   "source": [
    "function Pei(n::Integer, p)\n",
    "    M=Array{BigFloat,2}(undef, n,n)\n",
    "    for i=1:n\n",
    "        for j=1:n\n",
    "            M[i,j]=1\n",
    "            if i==j\n",
    "                M[i,j]=p\n",
    "            end\n",
    "        end\n",
    "    end\n",
    "    return M\n",
    "end"
   ]
  },
  {
   "cell_type": "markdown",
   "metadata": {},
   "source": [
    "# Generowanie macierzy trójkątnych"
   ]
  },
  {
   "cell_type": "code",
   "execution_count": 8,
   "metadata": {},
   "outputs": [
    {
     "data": {
      "text/plain": [
       "genRandomMatrix (generic function with 1 method)"
      ]
     },
     "execution_count": 8,
     "metadata": {},
     "output_type": "execute_result"
    }
   ],
   "source": [
    "function Lower(n, maxVal)\n",
    "    Low = Array{BigFloat,2}(undef, n,n)\n",
    "    for i=1:n\n",
    "        for j=1:i\n",
    "            Low[i,j]=rand()*rand(1:maxVal)*(-1)^(rand(1:2))\n",
    "        end\n",
    "        \n",
    "        for j=i:n\n",
    "            Low[i,j]=0\n",
    "        end \n",
    "        Low[i,i]=1\n",
    "    end\n",
    "    return Low\n",
    "end\n",
    "\n",
    "function Upper(n, maxVal)\n",
    "   Upp = Array{BigFloat,2}(undef, n,n)\n",
    "    for i=1:n\n",
    "        for j=1:i\n",
    "            Upp[i,j]=0\n",
    "        end\n",
    "        for j=i:n\n",
    "            Upp[i,j]=rand()*rand(1:maxVal)*(-1)^(rand(1:2))\n",
    "        end \n",
    "    end\n",
    "    return Upp\n",
    "    \n",
    "end\n",
    "\n",
    "function detUp(A)\n",
    "    n,n=size(A)\n",
    "    d=1\n",
    "    for i=1:n\n",
    "        d*=A[i,i]\n",
    "    end\n",
    "    return d\n",
    "end\n",
    "\n",
    "function mult(A, B)\n",
    "    n,n=size(A)\n",
    "    C=Array{BigFloat,2}(undef, n,n)\n",
    "    for i=1:n\n",
    "        for j=1:n\n",
    "            C[i,j]=0\n",
    "            for k=1:n\n",
    "                C[i,j]+=A[i,k]*B[k,j]\n",
    "            end\n",
    "        end\n",
    "    end\n",
    "    return C\n",
    "end\n",
    "\n",
    "function genRandomMatrix(n, maxVal)\n",
    "    Upp=Upper(n, maxVal)\n",
    "    Low=Lower(n, maxVal)\n",
    "    d=detUp(Upp)\n",
    "    return mult(Low,Upp), d\n",
    "end"
   ]
  },
  {
   "cell_type": "markdown",
   "metadata": {},
   "source": [
    "# Testy na losowych macierzach"
   ]
  },
  {
   "cell_type": "code",
   "execution_count": 9,
   "metadata": {},
   "outputs": [
    {
     "data": {
      "text/plain": [
       "tests (generic function with 1 method)"
      ]
     },
     "execution_count": 9,
     "metadata": {},
     "output_type": "execute_result"
    }
   ],
   "source": [
    "function tests(number, maxVal, precision, eps)\n",
    "    dif=0\n",
    "    maxi=0\n",
    "    averageDif=BigFloat(0.0)\n",
    "    T=Array{BigFloat,1}(undef, number)\n",
    "    prop = 0\n",
    "    dif2=0\n",
    "    pack=0\n",
    "    for N=1:number\n",
    "        T[N]=0\n",
    "        n=rand(2:50)\n",
    "        M,propDet = genRandomMatrix(n, maxVal)\n",
    "        prop = LinearAlgebra.det(copy(M))\n",
    "        det = elimination(copy(M))\n",
    "        dif=abs(propDet-det)\n",
    "        dif2=abs(propDet-prop)\n",
    "        \n",
    "        if propDet!=0\n",
    "            T[N]=dif/propDet\n",
    "            maxi = max(maxi, abs(T[N]))\n",
    "            pack = max(pack, abs(dif2/propDet))\n",
    "        elseif det != 0\n",
    "            T[N]=dif\n",
    "        end\n",
    "    end\n",
    "\n",
    "    T=sort(T)\n",
    "    k=0.0\n",
    "    for N=1:number\n",
    "        if abs(T[N])<eps\n",
    "            k+=1.0\n",
    "        end\n",
    "    end\n",
    "    k*=100\n",
    "    k/=number\n",
    "    @printf(\"Procent prawidłowych dla precyzji %d bitowej dla %d testów dla %.1e epsilona: %.1e  \\n\",precision, number,eps, k)\n",
    "    @printf(\"Maksymalny błąd w precyzji %d bitowej dla %d testów: %.1e\\n\",precision, number, maxi)\n",
    "    @printf(\"Maksymalny błąd dla LinearAlgebra.det(): %.1e\\n\",pack)\n",
    "end"
   ]
  },
  {
   "cell_type": "code",
   "execution_count": 10,
   "metadata": {},
   "outputs": [
    {
     "name": "stdout",
     "output_type": "stream",
     "text": [
      "Procent prawidłowych dla precyzji 16 bitowej dla 10000 testów dla 1.0e-02 epsilona: 3.5e+00  \n",
      "Maksymalny błąd w precyzji 16 bitowej dla 10000 testów: 5.4e+112\n",
      "Maksymalny błąd dla LinearAlgebra.det(): 2.4e+110\n",
      "Procent prawidłowych dla precyzji 32 bitowej dla 10000 testów dla 1.0e-04 epsilona: 7.0e+00  \n",
      "Maksymalny błąd w precyzji 32 bitowej dla 10000 testów: 2.2e+97\n",
      "Maksymalny błąd dla LinearAlgebra.det(): 8.2e+96\n",
      "Procent prawidłowych dla precyzji 64 bitowej dla 10000 testów dla 1.0e-08 epsilona: 1.4e+01  \n",
      "Maksymalny błąd w precyzji 64 bitowej dla 10000 testów: 2.5e+71\n",
      "Maksymalny błąd dla LinearAlgebra.det(): 6.2e+71\n",
      "Procent prawidłowych dla precyzji 1024 bitowej dla 10000 testów dla 1.0e-200 epsilona: 1.0e+02  \n",
      "Maksymalny błąd w precyzji 1024 bitowej dla 10000 testów: 4.6e-220\n",
      "Maksymalny błąd dla LinearAlgebra.det(): 9.5e-217\n"
     ]
    }
   ],
   "source": [
    "setprecision(16)\n",
    "tests(10000, 100, 16, 10^(-2))\n",
    "setprecision(32)\n",
    "tests(10000, 100, 32, 10^(-4))\n",
    "setprecision(64)\n",
    "tests(10000, 100, 64, 10^(-8))\n",
    "setprecision(1024)\n",
    "tests(10000, 100, 1024, 10^(-200))"
   ]
  },
  {
   "cell_type": "markdown",
   "metadata": {},
   "source": [
    "# Testy na macierzach Hilberta"
   ]
  },
  {
   "cell_type": "code",
   "execution_count": 11,
   "metadata": {},
   "outputs": [
    {
     "data": {
      "text/plain": [
       "testsHilbert (generic function with 1 method)"
      ]
     },
     "execution_count": 11,
     "metadata": {},
     "output_type": "execute_result"
    }
   ],
   "source": [
    "function testsHilbert(number, precision, eps)\n",
    "    dif=0\n",
    "    maxi=0\n",
    "    averageDif=BigFloat(0.0)\n",
    "    T=Array{BigFloat,1}(undef, number)\n",
    "\n",
    "    for N=1:number\n",
    "        T[N]=0\n",
    "        n=rand(2:50)\n",
    "        M=Hilbert(n)\n",
    "        propDet = LinearAlgebra.det(M)\n",
    "        det = elimination(copy(M))\n",
    "        dif=abs(propDet-det)\n",
    "        \n",
    "        if propDet!=0\n",
    "            T[N]=dif/propDet\n",
    "            maxi = max(maxi, T[N])\n",
    "        elseif det != 0\n",
    "            T[N]=dif\n",
    "        end\n",
    "    end\n",
    "\n",
    "    T=sort(T)\n",
    "    k=0.0\n",
    "    for N=1:number\n",
    "        if abs(T[N])<eps\n",
    "            k+=1.0\n",
    "        end\n",
    "    end\n",
    "    k*=100\n",
    "    k/=number\n",
    "    @printf(\"Procent prawidłowych policzeń w precyzji %d bitowej dla %d testów: %.1e\\n\",precision, number, k)\n",
    "    @printf(\"Maksymalny błąd w precyzji %d bitowej dla %d testów: %.1e\\n\",precision, number, maxi)\n",
    "end"
   ]
  },
  {
   "cell_type": "code",
   "execution_count": 12,
   "metadata": {},
   "outputs": [
    {
     "name": "stdout",
     "output_type": "stream",
     "text": [
      "Procent prawidłowych policzeń w precyzji 16 bitowej dla 10000 testów: 6.2e+00\n",
      "Maksymalny błąd w precyzji 16 bitowej dla 10000 testów: 2.1e+03\n",
      "Procent prawidłowych policzeń w precyzji 32 bitowej dla 10000 testów: 1.0e+01\n",
      "Maksymalny błąd w precyzji 32 bitowej dla 10000 testów: 6.2e+01\n",
      "Procent prawidłowych policzeń w precyzji 64 bitowej dla 10000 testów: 2.0e+01\n",
      "Maksymalny błąd w precyzji 64 bitowej dla 10000 testów: 1.5e-02\n",
      "Procent prawidłowych policzeń w precyzji 1024 bitowej dla 10000 testów: 1.0e+02\n",
      "Maksymalny błąd w precyzji 1024 bitowej dla 10000 testów: 7.0e-292\n"
     ]
    }
   ],
   "source": [
    "setprecision(16)\n",
    "testsHilbert(10000, 16, 10^(-2))\n",
    "setprecision(32)\n",
    "testsHilbert(10000, 32, 10^(-4))\n",
    "setprecision(64)\n",
    "testsHilbert(10000, 64, 10^(-8))\n",
    "setprecision(1024)\n",
    "testsHilbert(10000, 1024, 10^(-200))"
   ]
  },
  {
   "cell_type": "markdown",
   "metadata": {},
   "source": [
    "# Testy na macierzach Pei"
   ]
  },
  {
   "cell_type": "code",
   "execution_count": 13,
   "metadata": {},
   "outputs": [
    {
     "data": {
      "text/plain": [
       "testsPei (generic function with 1 method)"
      ]
     },
     "execution_count": 13,
     "metadata": {},
     "output_type": "execute_result"
    }
   ],
   "source": [
    "function testsPei(number, precision, eps)\n",
    "    dif=0\n",
    "    maxi=0\n",
    "    averageDif=BigFloat(0.0)\n",
    "    T=Array{BigFloat,1}(undef, number)\n",
    "\n",
    "    for N=1:number\n",
    "        T[N]=0\n",
    "        n=rand(2:50)\n",
    "        M=Pei(n, 1+(1/10)*rand()*((-1)^(rand(1:2))))\n",
    "        propDet = LinearAlgebra.det(M)\n",
    "        det = elimination(copy(M))\n",
    "        dif=abs(propDet-det)\n",
    "        \n",
    "        if propDet!=0\n",
    "            T[N]=dif/propDet\n",
    "            maxi = max(maxi, T[N])\n",
    "        elseif det != 0\n",
    "            T[N]=dif\n",
    "        end\n",
    "    end\n",
    "\n",
    "    T=sort(T)\n",
    "    k=0.0\n",
    "    for N=1:number\n",
    "        if abs(T[N])<eps\n",
    "            k+=1.0\n",
    "        end\n",
    "    end\n",
    "    k*=100\n",
    "    k/=number\n",
    "    @printf(\"Procent prawidłowych policzeń w precyzji %d bitowej dla %d testów: %.1e\\n\",precision, number, k)\n",
    "    @printf(\"Maksymalny błąd w precyzji %d bitowej dla %d testów: %.1e\\n\",precision, number, maxi)\n",
    "end"
   ]
  },
  {
   "cell_type": "code",
   "execution_count": null,
   "metadata": {},
   "outputs": [
    {
     "name": "stdout",
     "output_type": "stream",
     "text": [
      "Procent prawidłowych policzeń w precyzji 16 bitowej dla 10000 testów: 5.2e+01\n",
      "Maksymalny błąd w precyzji 16 bitowej dla 10000 testów: 1.9e-01\n",
      "Procent prawidłowych policzeń w precyzji 32 bitowej dla 10000 testów: 7.8e+01\n",
      "Maksymalny błąd w precyzji 32 bitowej dla 10000 testów: 6.1e-06\n"
     ]
    }
   ],
   "source": [
    "setprecision(16)\n",
    "testsPei(10000, 16, 10^(-4))\n",
    "setprecision(32)\n",
    "testsPei(10000, 32, 10^(-8))\n",
    "setprecision(64)\n",
    "testsPei(10000, 64, 10^(-16))\n",
    "setprecision(1024)\n",
    "testsPei(10000, 1024, 10^(-300))"
   ]
  },
  {
   "cell_type": "code",
   "execution_count": null,
   "metadata": {},
   "outputs": [],
   "source": []
  }
 ],
 "metadata": {
  "@webio": {
   "lastCommId": "34126e98ca3b4e9bb8636e4eecd8e911",
   "lastKernelId": "57d48e2e-77f2-4bf5-83ae-7f0047b13f47"
  },
  "kernelspec": {
   "display_name": "Julia 1.0.1",
   "language": "julia",
   "name": "julia-1.0"
  },
  "language_info": {
   "file_extension": ".jl",
   "mimetype": "application/julia",
   "name": "julia",
   "version": "1.0.1"
  }
 },
 "nbformat": 4,
 "nbformat_minor": 2
}
