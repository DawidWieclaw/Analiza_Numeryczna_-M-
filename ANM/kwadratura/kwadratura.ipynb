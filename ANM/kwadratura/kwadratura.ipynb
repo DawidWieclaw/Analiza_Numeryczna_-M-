{
 "cells": [
  {
   "cell_type": "markdown",
   "metadata": {},
   "source": [
    "# Implementacja kwadratury Newtona - Cotesa"
   ]
  },
  {
   "cell_type": "markdown",
   "metadata": {},
   "source": [
    "# Funkcje pomocnicze"
   ]
  },
  {
   "cell_type": "code",
   "execution_count": 1,
   "metadata": {},
   "outputs": [
    {
     "data": {
      "text/plain": [
       "mod (generic function with 1 method)"
      ]
     },
     "execution_count": 1,
     "metadata": {},
     "output_type": "execute_result"
    }
   ],
   "source": [
    "function mod(x)\n",
    "    if x<0\n",
    "        return BigFloat(-x)\n",
    "    end\n",
    "    return BigFloat(x)\n",
    "end"
   ]
  },
  {
   "cell_type": "code",
   "execution_count": 2,
   "metadata": {},
   "outputs": [
    {
     "data": {
      "text/plain": [
       "silnia (generic function with 1 method)"
      ]
     },
     "execution_count": 2,
     "metadata": {},
     "output_type": "execute_result"
    }
   ],
   "source": [
    "function silnia(k)\n",
    "    if k==0\n",
    "        return BigFloat(1.0)\n",
    "    end\n",
    "    return BigFloat(k*silnia(k-1))\n",
    "end"
   ]
  },
  {
   "cell_type": "markdown",
   "metadata": {},
   "source": [
    "### Wyzaczenie miejsc zerowych wielomianu (od 0 do n bez k)"
   ]
  },
  {
   "cell_type": "code",
   "execution_count": 3,
   "metadata": {},
   "outputs": [
    {
     "data": {
      "text/plain": [
       "wsp (generic function with 1 method)"
      ]
     },
     "execution_count": 3,
     "metadata": {},
     "output_type": "execute_result"
    }
   ],
   "source": [
    "#tu mam wspolczyniki do miejsc zerowych wielomianu\n",
    "function wsp(k,n,K,L)\n",
    "    for l=0:k-1\n",
    "        K[l+1]=BigFloat(l)\n",
    "    end\n",
    "    for l=k+1:n\n",
    "        K[l]=BigFloat(l)\n",
    "    end\n",
    "    for l=1:n+1\n",
    "        L[l]=BigFloat(0.0)\n",
    "    end\n",
    "    return (K,L)\n",
    "end"
   ]
  },
  {
   "cell_type": "markdown",
   "metadata": {},
   "source": [
    "### Przejście z postaci iloczynowej do ogólnej wielomianu"
   ]
  },
  {
   "cell_type": "code",
   "execution_count": 4,
   "metadata": {},
   "outputs": [
    {
     "data": {
      "text/plain": [
       "wielomian (generic function with 1 method)"
      ]
     },
     "execution_count": 4,
     "metadata": {},
     "output_type": "execute_result"
    }
   ],
   "source": [
    "#funkcja przechodzacaz postaci ioczynowej do ogolnej wielomianu\n",
    "function wielomian(k,n)\n",
    "    \n",
    "    K=Array{BigFloat,1}(undef, n)#do trzymania j takich ze (x-j)\n",
    "    L=Array{BigFloat,1}(undef, n+1)# do trzymania ak takich ze ak*x^k\n",
    "    (K,L)=wsp(k,n,K,L)\n",
    "    L[2]=BigFloat(1.0)\n",
    "    L[1]=-K[1]\n",
    "    for i=3:n+1\n",
    "        j=i\n",
    "        while j>1\n",
    "            L[j]*=-K[i-1]\n",
    "            L[j]+=L[j-1]\n",
    "            j-=1\n",
    "        end\n",
    "        L[1]*=-K[i-1]\n",
    "    end\n",
    "    return L\n",
    "end"
   ]
  },
  {
   "cell_type": "markdown",
   "metadata": {},
   "source": [
    "### Funkcja obliczająca $\\int_{a}^{b} \\! w(x) \\, \\mathrm{d}x$, gdzie $w=(x-1)...(x-k-1)(x-k+1)...(x-n)$"
   ]
  },
  {
   "cell_type": "code",
   "execution_count": 5,
   "metadata": {},
   "outputs": [
    {
     "data": {
      "text/plain": [
       "calka (generic function with 1 method)"
      ]
     },
     "execution_count": 5,
     "metadata": {},
     "output_type": "execute_result"
    }
   ],
   "source": [
    "function calka(a,b,n,k)\n",
    "    suma=BigFloat(0.0)\n",
    "    L=wielomian(k,n)\n",
    "    for i=1:n+1\n",
    "        suma+=BigFloat(a^(i)*L[i]/(i)-b^(n)*L[i]/(n))\n",
    "    end\n",
    "    return suma\n",
    "end"
   ]
  },
  {
   "cell_type": "markdown",
   "metadata": {},
   "source": [
    "### Obliczenie współczynników $B_k$"
   ]
  },
  {
   "cell_type": "code",
   "execution_count": 6,
   "metadata": {},
   "outputs": [
    {
     "data": {
      "text/plain": [
       "B (generic function with 1 method)"
      ]
     },
     "execution_count": 6,
     "metadata": {},
     "output_type": "execute_result"
    }
   ],
   "source": [
    "function B(k,n)\n",
    "    wielomian(k,n)\n",
    "    suma=BigFloat((-1)^(n-k))\n",
    "    suma*=calka(BigFloat(n),0,n,k)\n",
    "    suma/=n*silnia(k)*silnia(n-k)\n",
    "end"
   ]
  },
  {
   "cell_type": "markdown",
   "metadata": {},
   "source": [
    "### Funkcja obliczająca $\\sum_{k=0}^{n} |B_k|$"
   ]
  },
  {
   "cell_type": "code",
   "execution_count": 7,
   "metadata": {},
   "outputs": [
    {
     "ename": "LoadError",
     "evalue": "UndefVarError: @printf not defined",
     "output_type": "error",
     "traceback": [
      "UndefVarError: @printf not defined",
      ""
     ]
    }
   ],
   "source": [
    "function sumMod(n)\n",
    "    suma=0.0\n",
    "    suma2=0.0\n",
    "    for i=0:n\n",
    "        if B(i,n)<0\n",
    "            @printf(\"Neagtive value %f, for i=%d\\n\", B(i,n), i)\n",
    "        end\n",
    "        suma+=mod(B(i,n))\n",
    "        suma2+=B(i,n)\n",
    "    end\n",
    "    @printf(\"Bk sum is %f\\n\", suma2);\n",
    "    @printf(\"Sum of absolute values of Bk is %f\\n\", suma);\n",
    "end"
   ]
  },
  {
   "cell_type": "markdown",
   "metadata": {},
   "source": [
    "# Zadanie 4"
   ]
  },
  {
   "cell_type": "code",
   "execution_count": 8,
   "metadata": {},
   "outputs": [
    {
     "ename": "UndefVarError",
     "evalue": "UndefVarError: sumMod not defined",
     "output_type": "error",
     "traceback": [
      "UndefVarError: sumMod not defined",
      "",
      "Stacktrace:",
      " [1] top-level scope at In[8]:1"
     ]
    }
   ],
   "source": [
    "sumMod(10)"
   ]
  },
  {
   "cell_type": "code",
   "execution_count": 9,
   "metadata": {},
   "outputs": [
    {
     "ename": "UndefVarError",
     "evalue": "UndefVarError: sumMod not defined",
     "output_type": "error",
     "traceback": [
      "UndefVarError: sumMod not defined",
      "",
      "Stacktrace:",
      " [1] top-level scope at In[9]:1"
     ]
    }
   ],
   "source": [
    "sumMod(15)"
   ]
  },
  {
   "cell_type": "code",
   "execution_count": 10,
   "metadata": {},
   "outputs": [
    {
     "ename": "UndefVarError",
     "evalue": "UndefVarError: sumMod not defined",
     "output_type": "error",
     "traceback": [
      "UndefVarError: sumMod not defined",
      "",
      "Stacktrace:",
      " [1] top-level scope at In[10]:1"
     ]
    }
   ],
   "source": [
    "sumMod(20)"
   ]
  },
  {
   "cell_type": "markdown",
   "metadata": {},
   "source": [
    "# Zadanie 5 - przybliżanie całki $\\int_{-4}^{4} \\! \\frac{1}{1+x^2} \\, \\mathrm{d}x$"
   ]
  },
  {
   "cell_type": "code",
   "execution_count": 11,
   "metadata": {},
   "outputs": [
    {
     "data": {
      "text/plain": [
       "2.651635327336065"
      ]
     },
     "execution_count": 11,
     "metadata": {},
     "output_type": "execute_result"
    }
   ],
   "source": [
    "properVal = 2*Base.atan(4)"
   ]
  },
  {
   "cell_type": "code",
   "execution_count": 12,
   "metadata": {},
   "outputs": [
    {
     "data": {
      "text/plain": [
       "A (generic function with 1 method)"
      ]
     },
     "execution_count": 12,
     "metadata": {},
     "output_type": "execute_result"
    }
   ],
   "source": [
    "function A(k,n,a,b)\n",
    "    return B(k,n)*(a-b)\n",
    "end"
   ]
  },
  {
   "cell_type": "code",
   "execution_count": 13,
   "metadata": {},
   "outputs": [
    {
     "data": {
      "text/plain": [
       "f (generic function with 1 method)"
      ]
     },
     "execution_count": 13,
     "metadata": {},
     "output_type": "execute_result"
    }
   ],
   "source": [
    "function f(x)\n",
    "    return 1/(1+x^2)\n",
    "end"
   ]
  },
  {
   "cell_type": "code",
   "execution_count": 14,
   "metadata": {},
   "outputs": [
    {
     "data": {
      "text/plain": [
       "kwad (generic function with 1 method)"
      ]
     },
     "execution_count": 14,
     "metadata": {},
     "output_type": "execute_result"
    }
   ],
   "source": [
    "function kwad(n)\n",
    "    sum=0.0\n",
    "    h=(8)/n\n",
    "    for i = 0:n\n",
    "        sum+=A(i,n,4,-4)*f(-4+i*h)\n",
    "    end\n",
    "    return sum\n",
    "\n",
    "end"
   ]
  },
  {
   "cell_type": "code",
   "execution_count": 15,
   "metadata": {},
   "outputs": [
    {
     "name": "stdout",
     "output_type": "stream",
     "text": [
      "Exact value is: 2.651635\n",
      "Value of quadrature for n = 2 is: 5.490196\n",
      "Difference for n = 2 is: -2.838561\n",
      "XXXXXXXXXXXXXXXXXXXXXXXXXXXXXXXXXXXXXXXXXXX\n",
      "Value of quadrature for n = 4 is: 2.277647\n",
      "Difference for n = 4 is: 0.373988\n",
      "XXXXXXXXXXXXXXXXXXXXXXXXXXXXXXXXXXXXXXXXXXX\n",
      "Value of quadrature for n = 6 is: 3.328798\n",
      "Difference for n = 6 is: -0.677163\n",
      "XXXXXXXXXXXXXXXXXXXXXXXXXXXXXXXXXXXXXXXXXXX\n",
      "Value of quadrature for n = 8 is: 1.941094\n",
      "Difference for n = 8 is: 0.710541\n",
      "XXXXXXXXXXXXXXXXXXXXXXXXXXXXXXXXXXXXXXXXXXX\n",
      "Value of quadrature for n = 10 is: 3.595560\n",
      "Difference for n = 10 is: -0.943925\n",
      "XXXXXXXXXXXXXXXXXXXXXXXXXXXXXXXXXXXXXXXXXXX\n"
     ]
    }
   ],
   "source": [
    "using Printf\n",
    "@printf(\"Exact value is: %f\\n\", properVal);\n",
    "for i in 1:5\n",
    "    @printf(\"Value of quadrature for n = %d is: %f\\n\", 2*i, kwad(2*i));\n",
    "    @printf(\"Difference for n = %d is: %f\\n\", 2*i, properVal-kwad(2*i));\n",
    "    println(\"XXXXXXXXXXXXXXXXXXXXXXXXXXXXXXXXXXXXXXXXXXX\")\n",
    "end"
   ]
  },
  {
   "cell_type": "markdown",
   "metadata": {},
   "source": [
    "# Przyczyna zwiększania wartości różnicy całek po zwiększeniu n"
   ]
  },
  {
   "cell_type": "markdown",
   "metadata": {},
   "source": [
    "### Funkcje pomocnicze"
   ]
  },
  {
   "cell_type": "code",
   "execution_count": 16,
   "metadata": {},
   "outputs": [
    {
     "data": {
      "text/plain": [
       "Newton (generic function with 1 method)"
      ]
     },
     "execution_count": 16,
     "metadata": {},
     "output_type": "execute_result"
    }
   ],
   "source": [
    "N=10\n",
    "\n",
    "function mod(x)\n",
    "    if x>=0\n",
    "        return x\n",
    "    end\n",
    "    return -x\n",
    "end\n",
    "\n",
    "function W(n)\n",
    "    D=Array{BigFloat,1}(undef, n+1)\n",
    "    for i=1:n+1\n",
    "        D[i]=-4+(8/n)*(i-1)\n",
    "    end\n",
    "    return D\n",
    "end\n",
    "\n",
    "function p(k,x)\n",
    "    result=1\n",
    "    for i=1:k-1\n",
    "        result*=(x-Wezly[i])\n",
    "    end\n",
    "    return result\n",
    "end\n",
    "\n",
    "function bk()\n",
    "    for i=1:n\n",
    "        C[i]=f(Wezly[i])\n",
    "    end\n",
    "    for j=2:n\n",
    "        k=n\n",
    "        while k>=j\n",
    "            C[k]=(C[k]-C[k-1])/(Wezly[k]-Wezly[k-j+1])\n",
    "            k-=1\n",
    "        end\n",
    "    end\n",
    "end\n",
    "\n",
    "function Newton(x)\n",
    "    sum=0.0\n",
    "    for k=1:n\n",
    "        sum+=C[k]*p(k,x)\n",
    "    end\n",
    "    return sum\n",
    "end"
   ]
  },
  {
   "cell_type": "markdown",
   "metadata": {},
   "source": [
    "### Wykresy"
   ]
  },
  {
   "cell_type": "code",
   "execution_count": 17,
   "metadata": {},
   "outputs": [],
   "source": [
    "using Plots"
   ]
  },
  {
   "cell_type": "code",
   "execution_count": 18,
   "metadata": {},
   "outputs": [
    {
     "data": {
      "image/svg+xml": [
       "<?xml version=\"1.0\" encoding=\"utf-8\"?>\n",
       "<svg xmlns=\"http://www.w3.org/2000/svg\" xmlns:xlink=\"http://www.w3.org/1999/xlink\" width=\"600\" height=\"400\" viewBox=\"0 0 2400 1600\">\n",
       "<defs>\n",
       "  <clipPath id=\"clip7200\">\n",
       "    <rect x=\"0\" y=\"0\" width=\"2000\" height=\"2000\"/>\n",
       "  </clipPath>\n",
       "</defs>\n",
       "<defs>\n",
       "  <clipPath id=\"clip7201\">\n",
       "    <rect x=\"0\" y=\"0\" width=\"2400\" height=\"1600\"/>\n",
       "  </clipPath>\n",
       "</defs>\n",
       "<polygon clip-path=\"url(#clip7201)\" points=\"\n",
       "0,1600 2400,1600 2400,0 0,0 \n",
       "  \" fill=\"#ffffff\" fill-rule=\"evenodd\" fill-opacity=\"1\"/>\n",
       "<defs>\n",
       "  <clipPath id=\"clip7202\">\n",
       "    <rect x=\"480\" y=\"0\" width=\"1681\" height=\"1600\"/>\n",
       "  </clipPath>\n",
       "</defs>\n",
       "<polygon clip-path=\"url(#clip7201)\" points=\"\n",
       "161.394,1503.47 2321.26,1503.47 2321.26,47.2441 161.394,47.2441 \n",
       "  \" fill=\"#ffffff\" fill-rule=\"evenodd\" fill-opacity=\"1\"/>\n",
       "<defs>\n",
       "  <clipPath id=\"clip7203\">\n",
       "    <rect x=\"161\" y=\"47\" width=\"2161\" height=\"1457\"/>\n",
       "  </clipPath>\n",
       "</defs>\n",
       "<polyline clip-path=\"url(#clip7203)\" style=\"stroke:#000000; stroke-width:2; stroke-opacity:0.1; fill:none\" points=\"\n",
       "  212.46,1503.47 212.46,47.2441 \n",
       "  \"/>\n",
       "<polyline clip-path=\"url(#clip7203)\" style=\"stroke:#000000; stroke-width:2; stroke-opacity:0.1; fill:none\" points=\"\n",
       "  727.652,1503.47 727.652,47.2441 \n",
       "  \"/>\n",
       "<polyline clip-path=\"url(#clip7203)\" style=\"stroke:#000000; stroke-width:2; stroke-opacity:0.1; fill:none\" points=\"\n",
       "  1242.84,1503.47 1242.84,47.2441 \n",
       "  \"/>\n",
       "<polyline clip-path=\"url(#clip7203)\" style=\"stroke:#000000; stroke-width:2; stroke-opacity:0.1; fill:none\" points=\"\n",
       "  1758.04,1503.47 1758.04,47.2441 \n",
       "  \"/>\n",
       "<polyline clip-path=\"url(#clip7203)\" style=\"stroke:#000000; stroke-width:2; stroke-opacity:0.1; fill:none\" points=\"\n",
       "  2273.23,1503.47 2273.23,47.2441 \n",
       "  \"/>\n",
       "<polyline clip-path=\"url(#clip7203)\" style=\"stroke:#000000; stroke-width:2; stroke-opacity:0.1; fill:none\" points=\"\n",
       "  161.394,1258.95 2321.26,1258.95 \n",
       "  \"/>\n",
       "<polyline clip-path=\"url(#clip7203)\" style=\"stroke:#000000; stroke-width:2; stroke-opacity:0.1; fill:none\" points=\"\n",
       "  161.394,966.318 2321.26,966.318 \n",
       "  \"/>\n",
       "<polyline clip-path=\"url(#clip7203)\" style=\"stroke:#000000; stroke-width:2; stroke-opacity:0.1; fill:none\" points=\"\n",
       "  161.394,673.687 2321.26,673.687 \n",
       "  \"/>\n",
       "<polyline clip-path=\"url(#clip7203)\" style=\"stroke:#000000; stroke-width:2; stroke-opacity:0.1; fill:none\" points=\"\n",
       "  161.394,381.056 2321.26,381.056 \n",
       "  \"/>\n",
       "<polyline clip-path=\"url(#clip7203)\" style=\"stroke:#000000; stroke-width:2; stroke-opacity:0.1; fill:none\" points=\"\n",
       "  161.394,88.4246 2321.26,88.4246 \n",
       "  \"/>\n",
       "<polyline clip-path=\"url(#clip7201)\" style=\"stroke:#000000; stroke-width:4; stroke-opacity:1; fill:none\" points=\"\n",
       "  161.394,1503.47 2321.26,1503.47 \n",
       "  \"/>\n",
       "<polyline clip-path=\"url(#clip7201)\" style=\"stroke:#000000; stroke-width:4; stroke-opacity:1; fill:none\" points=\"\n",
       "  161.394,1503.47 161.394,47.2441 \n",
       "  \"/>\n",
       "<polyline clip-path=\"url(#clip7201)\" style=\"stroke:#000000; stroke-width:4; stroke-opacity:1; fill:none\" points=\"\n",
       "  212.46,1503.47 212.46,1481.63 \n",
       "  \"/>\n",
       "<polyline clip-path=\"url(#clip7201)\" style=\"stroke:#000000; stroke-width:4; stroke-opacity:1; fill:none\" points=\"\n",
       "  727.652,1503.47 727.652,1481.63 \n",
       "  \"/>\n",
       "<polyline clip-path=\"url(#clip7201)\" style=\"stroke:#000000; stroke-width:4; stroke-opacity:1; fill:none\" points=\"\n",
       "  1242.84,1503.47 1242.84,1481.63 \n",
       "  \"/>\n",
       "<polyline clip-path=\"url(#clip7201)\" style=\"stroke:#000000; stroke-width:4; stroke-opacity:1; fill:none\" points=\"\n",
       "  1758.04,1503.47 1758.04,1481.63 \n",
       "  \"/>\n",
       "<polyline clip-path=\"url(#clip7201)\" style=\"stroke:#000000; stroke-width:4; stroke-opacity:1; fill:none\" points=\"\n",
       "  2273.23,1503.47 2273.23,1481.63 \n",
       "  \"/>\n",
       "<polyline clip-path=\"url(#clip7201)\" style=\"stroke:#000000; stroke-width:4; stroke-opacity:1; fill:none\" points=\"\n",
       "  161.394,1258.95 193.792,1258.95 \n",
       "  \"/>\n",
       "<polyline clip-path=\"url(#clip7201)\" style=\"stroke:#000000; stroke-width:4; stroke-opacity:1; fill:none\" points=\"\n",
       "  161.394,966.318 193.792,966.318 \n",
       "  \"/>\n",
       "<polyline clip-path=\"url(#clip7201)\" style=\"stroke:#000000; stroke-width:4; stroke-opacity:1; fill:none\" points=\"\n",
       "  161.394,673.687 193.792,673.687 \n",
       "  \"/>\n",
       "<polyline clip-path=\"url(#clip7201)\" style=\"stroke:#000000; stroke-width:4; stroke-opacity:1; fill:none\" points=\"\n",
       "  161.394,381.056 193.792,381.056 \n",
       "  \"/>\n",
       "<polyline clip-path=\"url(#clip7201)\" style=\"stroke:#000000; stroke-width:4; stroke-opacity:1; fill:none\" points=\"\n",
       "  161.394,88.4246 193.792,88.4246 \n",
       "  \"/>\n",
       "<g clip-path=\"url(#clip7201)\">\n",
       "<text style=\"fill:#000000; fill-opacity:1; font-family:Arial,Helvetica Neue,Helvetica,sans-serif; font-size:48px; text-anchor:middle;\" transform=\"rotate(0, 212.46, 1557.47)\" x=\"212.46\" y=\"1557.47\">-4</text>\n",
       "</g>\n",
       "<g clip-path=\"url(#clip7201)\">\n",
       "<text style=\"fill:#000000; fill-opacity:1; font-family:Arial,Helvetica Neue,Helvetica,sans-serif; font-size:48px; text-anchor:middle;\" transform=\"rotate(0, 727.652, 1557.47)\" x=\"727.652\" y=\"1557.47\">-2</text>\n",
       "</g>\n",
       "<g clip-path=\"url(#clip7201)\">\n",
       "<text style=\"fill:#000000; fill-opacity:1; font-family:Arial,Helvetica Neue,Helvetica,sans-serif; font-size:48px; text-anchor:middle;\" transform=\"rotate(0, 1242.84, 1557.47)\" x=\"1242.84\" y=\"1557.47\">0</text>\n",
       "</g>\n",
       "<g clip-path=\"url(#clip7201)\">\n",
       "<text style=\"fill:#000000; fill-opacity:1; font-family:Arial,Helvetica Neue,Helvetica,sans-serif; font-size:48px; text-anchor:middle;\" transform=\"rotate(0, 1758.04, 1557.47)\" x=\"1758.04\" y=\"1557.47\">2</text>\n",
       "</g>\n",
       "<g clip-path=\"url(#clip7201)\">\n",
       "<text style=\"fill:#000000; fill-opacity:1; font-family:Arial,Helvetica Neue,Helvetica,sans-serif; font-size:48px; text-anchor:middle;\" transform=\"rotate(0, 2273.23, 1557.47)\" x=\"2273.23\" y=\"1557.47\">4</text>\n",
       "</g>\n",
       "<g clip-path=\"url(#clip7201)\">\n",
       "<text style=\"fill:#000000; fill-opacity:1; font-family:Arial,Helvetica Neue,Helvetica,sans-serif; font-size:48px; text-anchor:end;\" transform=\"rotate(0, 137.394, 1276.45)\" x=\"137.394\" y=\"1276.45\">0.2</text>\n",
       "</g>\n",
       "<g clip-path=\"url(#clip7201)\">\n",
       "<text style=\"fill:#000000; fill-opacity:1; font-family:Arial,Helvetica Neue,Helvetica,sans-serif; font-size:48px; text-anchor:end;\" transform=\"rotate(0, 137.394, 983.818)\" x=\"137.394\" y=\"983.818\">0.4</text>\n",
       "</g>\n",
       "<g clip-path=\"url(#clip7201)\">\n",
       "<text style=\"fill:#000000; fill-opacity:1; font-family:Arial,Helvetica Neue,Helvetica,sans-serif; font-size:48px; text-anchor:end;\" transform=\"rotate(0, 137.394, 691.187)\" x=\"137.394\" y=\"691.187\">0.6</text>\n",
       "</g>\n",
       "<g clip-path=\"url(#clip7201)\">\n",
       "<text style=\"fill:#000000; fill-opacity:1; font-family:Arial,Helvetica Neue,Helvetica,sans-serif; font-size:48px; text-anchor:end;\" transform=\"rotate(0, 137.394, 398.556)\" x=\"137.394\" y=\"398.556\">0.8</text>\n",
       "</g>\n",
       "<g clip-path=\"url(#clip7201)\">\n",
       "<text style=\"fill:#000000; fill-opacity:1; font-family:Arial,Helvetica Neue,Helvetica,sans-serif; font-size:48px; text-anchor:end;\" transform=\"rotate(0, 137.394, 105.925)\" x=\"137.394\" y=\"105.925\">1.0</text>\n",
       "</g>\n",
       "<polyline clip-path=\"url(#clip7203)\" style=\"stroke:#009af9; stroke-width:4; stroke-opacity:1; fill:none\" points=\"\n",
       "  232.585,1462.26 418.67,1421.37 530.5,1382.37 625.05,1334.88 676.404,1300.84 727.759,1258.85 775.103,1211.08 822.447,1152.19 847.826,1115.02 873.204,1073.28 \n",
       "  898.583,1026.41 923.962,973.812 953.366,904.981 982.77,827.005 1012.17,739.558 1041.58,643.05 1093.84,455.25 1146.1,269.286 1169.02,199.488 1191.93,143.435 \n",
       "  1203.39,121.966 1214.84,105.51 1226.3,94.4339 1237.76,88.9946 1250.25,89.6331 1262.74,97.1027 1275.23,111.196 1287.72,131.53 1300.21,157.573 1312.71,188.674 \n",
       "  1325.2,224.106 1337.69,263.101 1387.95,440.879 1438.21,622.727 1466,715.722 1493.79,800.862 1521.57,877.564 1549.36,945.936 1575.79,1003.71 1602.23,1055 \n",
       "  1628.67,1100.46 1655.11,1140.74 1710.08,1210.52 1765.06,1265.24 1811.34,1302.35 1857.62,1333.06 1970.63,1388.69 2076.85,1424.16 2247.04,1461.25 \n",
       "  \"/>\n",
       "<polyline clip-path=\"url(#clip7203)\" style=\"stroke:#e26f46; stroke-width:4; stroke-opacity:1; fill:none\" points=\"\n",
       "  222.522,1438.75 232.585,1412.24 325.628,1179.63 418.67,969.475 474.585,853.983 530.5,746.602 577.775,662.14 625.05,583.475 676.404,504.594 727.759,432.553 \n",
       "  775.103,372.2 822.447,317.66 873.204,265.647 923.962,220.318 982.77,176.156 1041.58,140.966 1093.84,117.222 1146.1,100.564 1191.93,91.7869 1237.76,88.4582 \n",
       "  1287.72,91.0372 1337.69,100.093 1387.95,115.736 1438.21,137.933 1493.79,170.104 1549.36,210.285 1602.23,255.955 1655.11,308.876 1710.08,371.594 1765.06,442.152 \n",
       "  1811.34,507.626 1857.62,578.655 1914.12,672.906 1970.63,775.44 2023.74,879.376 2076.85,990.63 2161.94,1184.12 2247.04,1396.4 2260.13,1430.73 \n",
       "  \"/>\n",
       "<polygon clip-path=\"url(#clip7201)\" points=\"\n",
       "1760.46,312.204 2249.26,312.204 2249.26,130.764 1760.46,130.764 \n",
       "  \" fill=\"#ffffff\" fill-rule=\"evenodd\" fill-opacity=\"1\"/>\n",
       "<polyline clip-path=\"url(#clip7201)\" style=\"stroke:#000000; stroke-width:4; stroke-opacity:1; fill:none\" points=\"\n",
       "  1760.46,312.204 2249.26,312.204 2249.26,130.764 1760.46,130.764 1760.46,312.204 \n",
       "  \"/>\n",
       "<polyline clip-path=\"url(#clip7201)\" style=\"stroke:#009af9; stroke-width:4; stroke-opacity:1; fill:none\" points=\"\n",
       "  1784.46,191.244 1928.46,191.244 \n",
       "  \"/>\n",
       "<g clip-path=\"url(#clip7201)\">\n",
       "<text style=\"fill:#000000; fill-opacity:1; font-family:Arial,Helvetica Neue,Helvetica,sans-serif; font-size:48px; text-anchor:start;\" transform=\"rotate(0, 1952.46, 208.744)\" x=\"1952.46\" y=\"208.744\">f</text>\n",
       "</g>\n",
       "<polyline clip-path=\"url(#clip7201)\" style=\"stroke:#e26f46; stroke-width:4; stroke-opacity:1; fill:none\" points=\"\n",
       "  1784.46,251.724 1928.46,251.724 \n",
       "  \"/>\n",
       "<g clip-path=\"url(#clip7201)\">\n",
       "<text style=\"fill:#000000; fill-opacity:1; font-family:Arial,Helvetica Neue,Helvetica,sans-serif; font-size:48px; text-anchor:start;\" transform=\"rotate(0, 1952.46, 269.224)\" x=\"1952.46\" y=\"269.224\">Interpolacja</text>\n",
       "</g>\n",
       "</svg>\n"
      ]
     },
     "execution_count": 18,
     "metadata": {},
     "output_type": "execute_result"
    }
   ],
   "source": [
    "Wezly = W(2)\n",
    "n=3\n",
    "C=Array{BigFloat,1}(undef, n)\n",
    "bk()\n",
    "plot(f, -4, 4, label=\"f\")\n",
    "plot!(Newton, -4 ,4, label=\"Interpolacja\")"
   ]
  },
  {
   "cell_type": "code",
   "execution_count": 19,
   "metadata": {},
   "outputs": [
    {
     "data": {
      "image/svg+xml": [
       "<?xml version=\"1.0\" encoding=\"utf-8\"?>\n",
       "<svg xmlns=\"http://www.w3.org/2000/svg\" xmlns:xlink=\"http://www.w3.org/1999/xlink\" width=\"600\" height=\"400\" viewBox=\"0 0 2400 1600\">\n",
       "<defs>\n",
       "  <clipPath id=\"clip7400\">\n",
       "    <rect x=\"0\" y=\"0\" width=\"2000\" height=\"2000\"/>\n",
       "  </clipPath>\n",
       "</defs>\n",
       "<defs>\n",
       "  <clipPath id=\"clip7401\">\n",
       "    <rect x=\"0\" y=\"0\" width=\"2400\" height=\"1600\"/>\n",
       "  </clipPath>\n",
       "</defs>\n",
       "<polygon clip-path=\"url(#clip7401)\" points=\"\n",
       "0,1600 2400,1600 2400,0 0,0 \n",
       "  \" fill=\"#ffffff\" fill-rule=\"evenodd\" fill-opacity=\"1\"/>\n",
       "<defs>\n",
       "  <clipPath id=\"clip7402\">\n",
       "    <rect x=\"480\" y=\"0\" width=\"1681\" height=\"1600\"/>\n",
       "  </clipPath>\n",
       "</defs>\n",
       "<polygon clip-path=\"url(#clip7401)\" points=\"\n",
       "189.504,1503.47 2321.26,1503.47 2321.26,47.2441 189.504,47.2441 \n",
       "  \" fill=\"#ffffff\" fill-rule=\"evenodd\" fill-opacity=\"1\"/>\n",
       "<defs>\n",
       "  <clipPath id=\"clip7403\">\n",
       "    <rect x=\"189\" y=\"47\" width=\"2133\" height=\"1457\"/>\n",
       "  </clipPath>\n",
       "</defs>\n",
       "<polyline clip-path=\"url(#clip7403)\" style=\"stroke:#000000; stroke-width:2; stroke-opacity:0.1; fill:none\" points=\"\n",
       "  244.899,1503.47 244.899,47.2441 \n",
       "  \"/>\n",
       "<polyline clip-path=\"url(#clip7403)\" style=\"stroke:#000000; stroke-width:2; stroke-opacity:0.1; fill:none\" points=\"\n",
       "  750.513,1503.47 750.513,47.2441 \n",
       "  \"/>\n",
       "<polyline clip-path=\"url(#clip7403)\" style=\"stroke:#000000; stroke-width:2; stroke-opacity:0.1; fill:none\" points=\"\n",
       "  1256.13,1503.47 1256.13,47.2441 \n",
       "  \"/>\n",
       "<polyline clip-path=\"url(#clip7403)\" style=\"stroke:#000000; stroke-width:2; stroke-opacity:0.1; fill:none\" points=\"\n",
       "  1761.74,1503.47 1761.74,47.2441 \n",
       "  \"/>\n",
       "<polyline clip-path=\"url(#clip7403)\" style=\"stroke:#000000; stroke-width:2; stroke-opacity:0.1; fill:none\" points=\"\n",
       "  2267.35,1503.47 2267.35,47.2441 \n",
       "  \"/>\n",
       "<polyline clip-path=\"url(#clip7403)\" style=\"stroke:#000000; stroke-width:2; stroke-opacity:0.1; fill:none\" points=\"\n",
       "  189.504,1359.46 2321.26,1359.46 \n",
       "  \"/>\n",
       "<polyline clip-path=\"url(#clip7403)\" style=\"stroke:#000000; stroke-width:2; stroke-opacity:0.1; fill:none\" points=\"\n",
       "  189.504,1147.61 2321.26,1147.61 \n",
       "  \"/>\n",
       "<polyline clip-path=\"url(#clip7403)\" style=\"stroke:#000000; stroke-width:2; stroke-opacity:0.1; fill:none\" points=\"\n",
       "  189.504,935.755 2321.26,935.755 \n",
       "  \"/>\n",
       "<polyline clip-path=\"url(#clip7403)\" style=\"stroke:#000000; stroke-width:2; stroke-opacity:0.1; fill:none\" points=\"\n",
       "  189.504,723.906 2321.26,723.906 \n",
       "  \"/>\n",
       "<polyline clip-path=\"url(#clip7403)\" style=\"stroke:#000000; stroke-width:2; stroke-opacity:0.1; fill:none\" points=\"\n",
       "  189.504,512.056 2321.26,512.056 \n",
       "  \"/>\n",
       "<polyline clip-path=\"url(#clip7403)\" style=\"stroke:#000000; stroke-width:2; stroke-opacity:0.1; fill:none\" points=\"\n",
       "  189.504,300.206 2321.26,300.206 \n",
       "  \"/>\n",
       "<polyline clip-path=\"url(#clip7403)\" style=\"stroke:#000000; stroke-width:2; stroke-opacity:0.1; fill:none\" points=\"\n",
       "  189.504,88.3562 2321.26,88.3562 \n",
       "  \"/>\n",
       "<polyline clip-path=\"url(#clip7401)\" style=\"stroke:#000000; stroke-width:4; stroke-opacity:1; fill:none\" points=\"\n",
       "  189.504,1503.47 2321.26,1503.47 \n",
       "  \"/>\n",
       "<polyline clip-path=\"url(#clip7401)\" style=\"stroke:#000000; stroke-width:4; stroke-opacity:1; fill:none\" points=\"\n",
       "  189.504,1503.47 189.504,47.2441 \n",
       "  \"/>\n",
       "<polyline clip-path=\"url(#clip7401)\" style=\"stroke:#000000; stroke-width:4; stroke-opacity:1; fill:none\" points=\"\n",
       "  244.899,1503.47 244.899,1481.63 \n",
       "  \"/>\n",
       "<polyline clip-path=\"url(#clip7401)\" style=\"stroke:#000000; stroke-width:4; stroke-opacity:1; fill:none\" points=\"\n",
       "  750.513,1503.47 750.513,1481.63 \n",
       "  \"/>\n",
       "<polyline clip-path=\"url(#clip7401)\" style=\"stroke:#000000; stroke-width:4; stroke-opacity:1; fill:none\" points=\"\n",
       "  1256.13,1503.47 1256.13,1481.63 \n",
       "  \"/>\n",
       "<polyline clip-path=\"url(#clip7401)\" style=\"stroke:#000000; stroke-width:4; stroke-opacity:1; fill:none\" points=\"\n",
       "  1761.74,1503.47 1761.74,1481.63 \n",
       "  \"/>\n",
       "<polyline clip-path=\"url(#clip7401)\" style=\"stroke:#000000; stroke-width:4; stroke-opacity:1; fill:none\" points=\"\n",
       "  2267.35,1503.47 2267.35,1481.63 \n",
       "  \"/>\n",
       "<polyline clip-path=\"url(#clip7401)\" style=\"stroke:#000000; stroke-width:4; stroke-opacity:1; fill:none\" points=\"\n",
       "  189.504,1359.46 221.48,1359.46 \n",
       "  \"/>\n",
       "<polyline clip-path=\"url(#clip7401)\" style=\"stroke:#000000; stroke-width:4; stroke-opacity:1; fill:none\" points=\"\n",
       "  189.504,1147.61 221.48,1147.61 \n",
       "  \"/>\n",
       "<polyline clip-path=\"url(#clip7401)\" style=\"stroke:#000000; stroke-width:4; stroke-opacity:1; fill:none\" points=\"\n",
       "  189.504,935.755 221.48,935.755 \n",
       "  \"/>\n",
       "<polyline clip-path=\"url(#clip7401)\" style=\"stroke:#000000; stroke-width:4; stroke-opacity:1; fill:none\" points=\"\n",
       "  189.504,723.906 221.48,723.906 \n",
       "  \"/>\n",
       "<polyline clip-path=\"url(#clip7401)\" style=\"stroke:#000000; stroke-width:4; stroke-opacity:1; fill:none\" points=\"\n",
       "  189.504,512.056 221.48,512.056 \n",
       "  \"/>\n",
       "<polyline clip-path=\"url(#clip7401)\" style=\"stroke:#000000; stroke-width:4; stroke-opacity:1; fill:none\" points=\"\n",
       "  189.504,300.206 221.48,300.206 \n",
       "  \"/>\n",
       "<polyline clip-path=\"url(#clip7401)\" style=\"stroke:#000000; stroke-width:4; stroke-opacity:1; fill:none\" points=\"\n",
       "  189.504,88.3562 221.48,88.3562 \n",
       "  \"/>\n",
       "<g clip-path=\"url(#clip7401)\">\n",
       "<text style=\"fill:#000000; fill-opacity:1; font-family:Arial,Helvetica Neue,Helvetica,sans-serif; font-size:48px; text-anchor:middle;\" transform=\"rotate(0, 244.899, 1557.47)\" x=\"244.899\" y=\"1557.47\">-4</text>\n",
       "</g>\n",
       "<g clip-path=\"url(#clip7401)\">\n",
       "<text style=\"fill:#000000; fill-opacity:1; font-family:Arial,Helvetica Neue,Helvetica,sans-serif; font-size:48px; text-anchor:middle;\" transform=\"rotate(0, 750.513, 1557.47)\" x=\"750.513\" y=\"1557.47\">-2</text>\n",
       "</g>\n",
       "<g clip-path=\"url(#clip7401)\">\n",
       "<text style=\"fill:#000000; fill-opacity:1; font-family:Arial,Helvetica Neue,Helvetica,sans-serif; font-size:48px; text-anchor:middle;\" transform=\"rotate(0, 1256.13, 1557.47)\" x=\"1256.13\" y=\"1557.47\">0</text>\n",
       "</g>\n",
       "<g clip-path=\"url(#clip7401)\">\n",
       "<text style=\"fill:#000000; fill-opacity:1; font-family:Arial,Helvetica Neue,Helvetica,sans-serif; font-size:48px; text-anchor:middle;\" transform=\"rotate(0, 1761.74, 1557.47)\" x=\"1761.74\" y=\"1557.47\">2</text>\n",
       "</g>\n",
       "<g clip-path=\"url(#clip7401)\">\n",
       "<text style=\"fill:#000000; fill-opacity:1; font-family:Arial,Helvetica Neue,Helvetica,sans-serif; font-size:48px; text-anchor:middle;\" transform=\"rotate(0, 2267.35, 1557.47)\" x=\"2267.35\" y=\"1557.47\">4</text>\n",
       "</g>\n",
       "<g clip-path=\"url(#clip7401)\">\n",
       "<text style=\"fill:#000000; fill-opacity:1; font-family:Arial,Helvetica Neue,Helvetica,sans-serif; font-size:48px; text-anchor:end;\" transform=\"rotate(0, 165.504, 1376.96)\" x=\"165.504\" y=\"1376.96\">-0.2</text>\n",
       "</g>\n",
       "<g clip-path=\"url(#clip7401)\">\n",
       "<text style=\"fill:#000000; fill-opacity:1; font-family:Arial,Helvetica Neue,Helvetica,sans-serif; font-size:48px; text-anchor:end;\" transform=\"rotate(0, 165.504, 1165.11)\" x=\"165.504\" y=\"1165.11\">0.0</text>\n",
       "</g>\n",
       "<g clip-path=\"url(#clip7401)\">\n",
       "<text style=\"fill:#000000; fill-opacity:1; font-family:Arial,Helvetica Neue,Helvetica,sans-serif; font-size:48px; text-anchor:end;\" transform=\"rotate(0, 165.504, 953.255)\" x=\"165.504\" y=\"953.255\">0.2</text>\n",
       "</g>\n",
       "<g clip-path=\"url(#clip7401)\">\n",
       "<text style=\"fill:#000000; fill-opacity:1; font-family:Arial,Helvetica Neue,Helvetica,sans-serif; font-size:48px; text-anchor:end;\" transform=\"rotate(0, 165.504, 741.406)\" x=\"165.504\" y=\"741.406\">0.4</text>\n",
       "</g>\n",
       "<g clip-path=\"url(#clip7401)\">\n",
       "<text style=\"fill:#000000; fill-opacity:1; font-family:Arial,Helvetica Neue,Helvetica,sans-serif; font-size:48px; text-anchor:end;\" transform=\"rotate(0, 165.504, 529.556)\" x=\"165.504\" y=\"529.556\">0.6</text>\n",
       "</g>\n",
       "<g clip-path=\"url(#clip7401)\">\n",
       "<text style=\"fill:#000000; fill-opacity:1; font-family:Arial,Helvetica Neue,Helvetica,sans-serif; font-size:48px; text-anchor:end;\" transform=\"rotate(0, 165.504, 317.706)\" x=\"165.504\" y=\"317.706\">0.8</text>\n",
       "</g>\n",
       "<g clip-path=\"url(#clip7401)\">\n",
       "<text style=\"fill:#000000; fill-opacity:1; font-family:Arial,Helvetica Neue,Helvetica,sans-serif; font-size:48px; text-anchor:end;\" transform=\"rotate(0, 165.504, 105.856)\" x=\"165.504\" y=\"105.856\">1.0</text>\n",
       "</g>\n",
       "<polyline clip-path=\"url(#clip7403)\" style=\"stroke:#009af9; stroke-width:4; stroke-opacity:1; fill:none\" points=\"\n",
       "  264.65,1082.94 447.276,1053.34 557.026,1025.11 649.819,990.723 700.218,966.083 750.618,935.685 797.081,901.102 843.545,858.464 868.452,831.558 893.359,801.344 \n",
       "  918.266,767.409 943.173,729.331 972.031,679.501 1000.89,623.05 1029.75,559.743 1058.6,489.876 1109.89,353.919 1161.18,219.29 1183.67,168.761 1206.16,128.181 \n",
       "  1217.4,112.639 1228.65,100.725 1239.89,92.7066 1251.14,88.7688 1263.39,89.231 1275.65,94.6387 1287.91,104.842 1300.17,119.563 1312.43,138.416 1324.69,160.932 \n",
       "  1336.95,186.583 1349.21,214.813 1398.54,343.515 1447.86,475.164 1475.13,542.487 1502.4,604.124 1529.67,659.652 1556.94,709.15 1582.89,750.978 1608.83,788.109 \n",
       "  1634.78,821.018 1660.72,850.178 1714.68,900.698 1768.64,940.31 1814.06,967.172 1859.47,989.41 1970.38,1029.68 2074.63,1055.36 2241.65,1082.21 \n",
       "  \"/>\n",
       "<polyline clip-path=\"url(#clip7403)\" style=\"stroke:#e26f46; stroke-width:4; stroke-opacity:1; fill:none\" points=\"\n",
       "  249.837,1106.36 254.775,1126.72 259.712,1146.38 264.65,1165.36 287.478,1244.43 310.306,1309.86 333.135,1362.49 355.963,1403.13 378.791,1432.57 401.619,1451.6 \n",
       "  424.448,1460.97 447.276,1461.4 474.713,1451.11 502.151,1430.16 529.589,1399.69 557.026,1360.84 580.224,1322.25 603.423,1279.07 626.621,1231.89 649.819,1181.32 \n",
       "  700.218,1062.39 750.618,935.486 797.081,815.727 843.545,696.965 893.359,574.38 943.173,460.123 972.031,398.966 1000.89,342.163 1029.75,290.189 1058.6,243.469 \n",
       "  1084.25,206.66 1109.89,174.523 1135.54,147.255 1161.18,125.019 1206.16,98.5605 1251.14,88.4582 1275.65,89.9171 1300.17,96.2885 1324.69,107.538 1349.21,123.605 \n",
       "  1373.87,144.539 1398.54,170.145 1423.2,200.277 1447.86,234.768 1475.13,277.736 1502.4,325.485 1529.67,377.669 1556.94,433.902 1608.83,550.53 1660.72,676.901 \n",
       "  1714.68,814.463 1768.64,953.403 1814.06,1067.35 1859.47,1174.65 1887.2,1235.2 1914.93,1290.83 1942.65,1340.53 1970.38,1383.27 1996.44,1416.11 2022.5,1440.87 \n",
       "  2048.57,1456.6 2074.63,1462.26 2095.51,1458.84 2116.38,1447.75 2137.26,1428.42 2158.14,1400.26 2179.02,1362.69 2199.89,1315.1 2220.77,1256.86 2241.65,1187.34 \n",
       "  2248.08,1163.57 2254.5,1138.66 2260.93,1112.57 \n",
       "  \"/>\n",
       "<polygon clip-path=\"url(#clip7401)\" points=\"\n",
       "1760.46,312.204 2249.26,312.204 2249.26,130.764 1760.46,130.764 \n",
       "  \" fill=\"#ffffff\" fill-rule=\"evenodd\" fill-opacity=\"1\"/>\n",
       "<polyline clip-path=\"url(#clip7401)\" style=\"stroke:#000000; stroke-width:4; stroke-opacity:1; fill:none\" points=\"\n",
       "  1760.46,312.204 2249.26,312.204 2249.26,130.764 1760.46,130.764 1760.46,312.204 \n",
       "  \"/>\n",
       "<polyline clip-path=\"url(#clip7401)\" style=\"stroke:#009af9; stroke-width:4; stroke-opacity:1; fill:none\" points=\"\n",
       "  1784.46,191.244 1928.46,191.244 \n",
       "  \"/>\n",
       "<g clip-path=\"url(#clip7401)\">\n",
       "<text style=\"fill:#000000; fill-opacity:1; font-family:Arial,Helvetica Neue,Helvetica,sans-serif; font-size:48px; text-anchor:start;\" transform=\"rotate(0, 1952.46, 208.744)\" x=\"1952.46\" y=\"208.744\">f</text>\n",
       "</g>\n",
       "<polyline clip-path=\"url(#clip7401)\" style=\"stroke:#e26f46; stroke-width:4; stroke-opacity:1; fill:none\" points=\"\n",
       "  1784.46,251.724 1928.46,251.724 \n",
       "  \"/>\n",
       "<g clip-path=\"url(#clip7401)\">\n",
       "<text style=\"fill:#000000; fill-opacity:1; font-family:Arial,Helvetica Neue,Helvetica,sans-serif; font-size:48px; text-anchor:start;\" transform=\"rotate(0, 1952.46, 269.224)\" x=\"1952.46\" y=\"269.224\">Interpolacja</text>\n",
       "</g>\n",
       "</svg>\n"
      ]
     },
     "execution_count": 19,
     "metadata": {},
     "output_type": "execute_result"
    }
   ],
   "source": [
    "Wezly = W(4)\n",
    "n=5\n",
    "C=Array{BigFloat,1}(undef, n)\n",
    "bk()\n",
    "plot(f, -4, 4, label=\"f\")\n",
    "plot!(Newton, -4 ,4, label=\"Interpolacja\")"
   ]
  },
  {
   "cell_type": "code",
   "execution_count": 20,
   "metadata": {},
   "outputs": [
    {
     "data": {
      "image/svg+xml": [
       "<?xml version=\"1.0\" encoding=\"utf-8\"?>\n",
       "<svg xmlns=\"http://www.w3.org/2000/svg\" xmlns:xlink=\"http://www.w3.org/1999/xlink\" width=\"600\" height=\"400\" viewBox=\"0 0 2400 1600\">\n",
       "<defs>\n",
       "  <clipPath id=\"clip7600\">\n",
       "    <rect x=\"0\" y=\"0\" width=\"2000\" height=\"2000\"/>\n",
       "  </clipPath>\n",
       "</defs>\n",
       "<defs>\n",
       "  <clipPath id=\"clip7601\">\n",
       "    <rect x=\"0\" y=\"0\" width=\"2400\" height=\"1600\"/>\n",
       "  </clipPath>\n",
       "</defs>\n",
       "<polygon clip-path=\"url(#clip7601)\" points=\"\n",
       "0,1600 2400,1600 2400,0 0,0 \n",
       "  \" fill=\"#ffffff\" fill-rule=\"evenodd\" fill-opacity=\"1\"/>\n",
       "<defs>\n",
       "  <clipPath id=\"clip7602\">\n",
       "    <rect x=\"480\" y=\"0\" width=\"1681\" height=\"1600\"/>\n",
       "  </clipPath>\n",
       "</defs>\n",
       "<polygon clip-path=\"url(#clip7601)\" points=\"\n",
       "188.156,1503.47 2321.26,1503.47 2321.26,47.2441 188.156,47.2441 \n",
       "  \" fill=\"#ffffff\" fill-rule=\"evenodd\" fill-opacity=\"1\"/>\n",
       "<defs>\n",
       "  <clipPath id=\"clip7603\">\n",
       "    <rect x=\"188\" y=\"47\" width=\"2134\" height=\"1457\"/>\n",
       "  </clipPath>\n",
       "</defs>\n",
       "<polyline clip-path=\"url(#clip7603)\" style=\"stroke:#000000; stroke-width:2; stroke-opacity:0.1; fill:none\" points=\"\n",
       "  243.586,1503.47 243.586,47.2441 \n",
       "  \"/>\n",
       "<polyline clip-path=\"url(#clip7603)\" style=\"stroke:#000000; stroke-width:2; stroke-opacity:0.1; fill:none\" points=\"\n",
       "  749.52,1503.47 749.52,47.2441 \n",
       "  \"/>\n",
       "<polyline clip-path=\"url(#clip7603)\" style=\"stroke:#000000; stroke-width:2; stroke-opacity:0.1; fill:none\" points=\"\n",
       "  1255.45,1503.47 1255.45,47.2441 \n",
       "  \"/>\n",
       "<polyline clip-path=\"url(#clip7603)\" style=\"stroke:#000000; stroke-width:2; stroke-opacity:0.1; fill:none\" points=\"\n",
       "  1761.39,1503.47 1761.39,47.2441 \n",
       "  \"/>\n",
       "<polyline clip-path=\"url(#clip7603)\" style=\"stroke:#000000; stroke-width:2; stroke-opacity:0.1; fill:none\" points=\"\n",
       "  2267.32,1503.47 2267.32,47.2441 \n",
       "  \"/>\n",
       "<polyline clip-path=\"url(#clip7603)\" style=\"stroke:#000000; stroke-width:2; stroke-opacity:0.1; fill:none\" points=\"\n",
       "  188.156,1466.8 2321.26,1466.8 \n",
       "  \"/>\n",
       "<polyline clip-path=\"url(#clip7603)\" style=\"stroke:#000000; stroke-width:2; stroke-opacity:0.1; fill:none\" points=\"\n",
       "  188.156,1122.15 2321.26,1122.15 \n",
       "  \"/>\n",
       "<polyline clip-path=\"url(#clip7603)\" style=\"stroke:#000000; stroke-width:2; stroke-opacity:0.1; fill:none\" points=\"\n",
       "  188.156,777.501 2321.26,777.501 \n",
       "  \"/>\n",
       "<polyline clip-path=\"url(#clip7603)\" style=\"stroke:#000000; stroke-width:2; stroke-opacity:0.1; fill:none\" points=\"\n",
       "  188.156,432.853 2321.26,432.853 \n",
       "  \"/>\n",
       "<polyline clip-path=\"url(#clip7603)\" style=\"stroke:#000000; stroke-width:2; stroke-opacity:0.1; fill:none\" points=\"\n",
       "  188.156,88.2046 2321.26,88.2046 \n",
       "  \"/>\n",
       "<polyline clip-path=\"url(#clip7601)\" style=\"stroke:#000000; stroke-width:4; stroke-opacity:1; fill:none\" points=\"\n",
       "  188.156,1503.47 2321.26,1503.47 \n",
       "  \"/>\n",
       "<polyline clip-path=\"url(#clip7601)\" style=\"stroke:#000000; stroke-width:4; stroke-opacity:1; fill:none\" points=\"\n",
       "  188.156,1503.47 188.156,47.2441 \n",
       "  \"/>\n",
       "<polyline clip-path=\"url(#clip7601)\" style=\"stroke:#000000; stroke-width:4; stroke-opacity:1; fill:none\" points=\"\n",
       "  243.586,1503.47 243.586,1481.63 \n",
       "  \"/>\n",
       "<polyline clip-path=\"url(#clip7601)\" style=\"stroke:#000000; stroke-width:4; stroke-opacity:1; fill:none\" points=\"\n",
       "  749.52,1503.47 749.52,1481.63 \n",
       "  \"/>\n",
       "<polyline clip-path=\"url(#clip7601)\" style=\"stroke:#000000; stroke-width:4; stroke-opacity:1; fill:none\" points=\"\n",
       "  1255.45,1503.47 1255.45,1481.63 \n",
       "  \"/>\n",
       "<polyline clip-path=\"url(#clip7601)\" style=\"stroke:#000000; stroke-width:4; stroke-opacity:1; fill:none\" points=\"\n",
       "  1761.39,1503.47 1761.39,1481.63 \n",
       "  \"/>\n",
       "<polyline clip-path=\"url(#clip7601)\" style=\"stroke:#000000; stroke-width:4; stroke-opacity:1; fill:none\" points=\"\n",
       "  2267.32,1503.47 2267.32,1481.63 \n",
       "  \"/>\n",
       "<polyline clip-path=\"url(#clip7601)\" style=\"stroke:#000000; stroke-width:4; stroke-opacity:1; fill:none\" points=\"\n",
       "  188.156,1466.8 220.153,1466.8 \n",
       "  \"/>\n",
       "<polyline clip-path=\"url(#clip7601)\" style=\"stroke:#000000; stroke-width:4; stroke-opacity:1; fill:none\" points=\"\n",
       "  188.156,1122.15 220.153,1122.15 \n",
       "  \"/>\n",
       "<polyline clip-path=\"url(#clip7601)\" style=\"stroke:#000000; stroke-width:4; stroke-opacity:1; fill:none\" points=\"\n",
       "  188.156,777.501 220.153,777.501 \n",
       "  \"/>\n",
       "<polyline clip-path=\"url(#clip7601)\" style=\"stroke:#000000; stroke-width:4; stroke-opacity:1; fill:none\" points=\"\n",
       "  188.156,432.853 220.153,432.853 \n",
       "  \"/>\n",
       "<polyline clip-path=\"url(#clip7601)\" style=\"stroke:#000000; stroke-width:4; stroke-opacity:1; fill:none\" points=\"\n",
       "  188.156,88.2046 220.153,88.2046 \n",
       "  \"/>\n",
       "<g clip-path=\"url(#clip7601)\">\n",
       "<text style=\"fill:#000000; fill-opacity:1; font-family:Arial,Helvetica Neue,Helvetica,sans-serif; font-size:48px; text-anchor:middle;\" transform=\"rotate(0, 243.586, 1557.47)\" x=\"243.586\" y=\"1557.47\">-4</text>\n",
       "</g>\n",
       "<g clip-path=\"url(#clip7601)\">\n",
       "<text style=\"fill:#000000; fill-opacity:1; font-family:Arial,Helvetica Neue,Helvetica,sans-serif; font-size:48px; text-anchor:middle;\" transform=\"rotate(0, 749.52, 1557.47)\" x=\"749.52\" y=\"1557.47\">-2</text>\n",
       "</g>\n",
       "<g clip-path=\"url(#clip7601)\">\n",
       "<text style=\"fill:#000000; fill-opacity:1; font-family:Arial,Helvetica Neue,Helvetica,sans-serif; font-size:48px; text-anchor:middle;\" transform=\"rotate(0, 1255.45, 1557.47)\" x=\"1255.45\" y=\"1557.47\">0</text>\n",
       "</g>\n",
       "<g clip-path=\"url(#clip7601)\">\n",
       "<text style=\"fill:#000000; fill-opacity:1; font-family:Arial,Helvetica Neue,Helvetica,sans-serif; font-size:48px; text-anchor:middle;\" transform=\"rotate(0, 1761.39, 1557.47)\" x=\"1761.39\" y=\"1557.47\">2</text>\n",
       "</g>\n",
       "<g clip-path=\"url(#clip7601)\">\n",
       "<text style=\"fill:#000000; fill-opacity:1; font-family:Arial,Helvetica Neue,Helvetica,sans-serif; font-size:48px; text-anchor:middle;\" transform=\"rotate(0, 2267.32, 1557.47)\" x=\"2267.32\" y=\"1557.47\">4</text>\n",
       "</g>\n",
       "<g clip-path=\"url(#clip7601)\">\n",
       "<text style=\"fill:#000000; fill-opacity:1; font-family:Arial,Helvetica Neue,Helvetica,sans-serif; font-size:48px; text-anchor:end;\" transform=\"rotate(0, 164.156, 1484.3)\" x=\"164.156\" y=\"1484.3\">0.00</text>\n",
       "</g>\n",
       "<g clip-path=\"url(#clip7601)\">\n",
       "<text style=\"fill:#000000; fill-opacity:1; font-family:Arial,Helvetica Neue,Helvetica,sans-serif; font-size:48px; text-anchor:end;\" transform=\"rotate(0, 164.156, 1139.65)\" x=\"164.156\" y=\"1139.65\">0.25</text>\n",
       "</g>\n",
       "<g clip-path=\"url(#clip7601)\">\n",
       "<text style=\"fill:#000000; fill-opacity:1; font-family:Arial,Helvetica Neue,Helvetica,sans-serif; font-size:48px; text-anchor:end;\" transform=\"rotate(0, 164.156, 795.001)\" x=\"164.156\" y=\"795.001\">0.50</text>\n",
       "</g>\n",
       "<g clip-path=\"url(#clip7601)\">\n",
       "<text style=\"fill:#000000; fill-opacity:1; font-family:Arial,Helvetica Neue,Helvetica,sans-serif; font-size:48px; text-anchor:end;\" transform=\"rotate(0, 164.156, 450.353)\" x=\"164.156\" y=\"450.353\">0.75</text>\n",
       "</g>\n",
       "<g clip-path=\"url(#clip7601)\">\n",
       "<text style=\"fill:#000000; fill-opacity:1; font-family:Arial,Helvetica Neue,Helvetica,sans-serif; font-size:48px; text-anchor:end;\" transform=\"rotate(0, 164.156, 105.705)\" x=\"164.156\" y=\"105.705\">1.00</text>\n",
       "</g>\n",
       "<polyline clip-path=\"url(#clip7603)\" style=\"stroke:#009af9; stroke-width:4; stroke-opacity:1; fill:none\" points=\"\n",
       "  263.35,1382.64 446.091,1344.11 555.911,1307.37 648.762,1262.62 699.193,1230.55 749.625,1190.99 796.118,1145.98 842.611,1090.48 867.534,1055.47 892.457,1016.14 \n",
       "  917.379,971.978 942.302,922.421 971.178,857.568 1000.05,784.098 1028.93,701.705 1057.8,610.775 1109.13,433.829 1160.45,258.613 1182.95,192.85 1205.45,140.035 \n",
       "  1216.71,119.808 1227.96,104.302 1239.21,93.8666 1250.46,88.7417 1262.73,89.3433 1274.99,96.3812 1287.26,109.66 1299.53,128.819 1311.79,153.356 1324.06,182.66 \n",
       "  1336.33,216.044 1348.59,252.786 1397.95,420.289 1447.31,591.627 1474.6,679.247 1501.89,759.466 1529.17,831.735 1556.46,896.155 1582.42,950.594 1608.38,998.919 \n",
       "  1634.34,1041.75 1660.31,1079.7 1714.3,1145.45 1768.29,1197.01 1813.73,1231.97 1859.18,1260.91 1970.16,1313.32 2074.47,1346.74 2241.6,1381.68 \n",
       "  \"/>\n",
       "<polyline clip-path=\"url(#clip7603)\" style=\"stroke:#e26f46; stroke-width:4; stroke-opacity:1; fill:none\" points=\"\n",
       "  248.527,1320.13 253.468,1258.63 258.409,1201.08 263.35,1147.34 274.771,1036.98 286.192,944.739 297.614,869.135 309.035,808.754 320.456,762.25 331.878,728.344 \n",
       "  343.299,705.821 354.72,693.529 366.142,690.377 377.563,695.332 388.984,707.418 400.406,725.717 411.827,749.361 423.248,777.537 434.67,809.483 446.091,844.483 \n",
       "  501.001,1035.64 555.911,1223.72 579.124,1292.05 602.337,1350.54 625.549,1397.67 648.762,1432.35 673.978,1455.19 699.193,1462.24 724.409,1453.62 749.625,1429.83 \n",
       "  772.871,1395.19 796.118,1349.26 807.741,1322.39 819.364,1293.11 830.988,1261.58 842.611,1227.95 892.457,1064.14 942.302,879.292 1000.05,658.345 1057.8,451.449 \n",
       "  1083.47,369.37 1109.13,295.585 1134.79,231.447 1160.45,178.121 1182.95,141.017 1205.45,113.478 1227.96,95.878 1250.46,88.4582 1274.99,92.0829 1299.53,107.867 \n",
       "  1324.06,135.555 1348.59,174.698 1373.27,224.984 1397.95,285.38 1422.63,354.872 1447.31,432.285 1501.89,624.758 1556.46,832.746 1608.38,1028.03 1660.31,1203.72 \n",
       "  1673.8,1244.14 1687.3,1281.87 1700.8,1316.63 1714.3,1348.18 1741.29,1400.74 1768.29,1437.92 1791.01,1456.3 1813.73,1462.26 1836.46,1455.47 1859.18,1435.85 \n",
       "  1886.93,1394.86 1914.67,1336.22 1942.41,1261.87 1970.16,1174.71 2022.31,990.907 2074.47,814.701 2084.92,784.88 2095.36,758.064 2105.81,734.827 2116.25,715.775 \n",
       "  2126.7,701.553 2137.15,692.843 2147.59,690.363 2158.04,694.873 2168.48,707.171 2178.93,728.097 2189.37,758.535 2199.82,799.411 2210.26,851.697 2220.71,916.411 \n",
       "  2231.15,994.616 2241.6,1087.43 2248.03,1152.32 2254.46,1223.48 2260.89,1301.17 \n",
       "  \"/>\n",
       "<polygon clip-path=\"url(#clip7601)\" points=\"\n",
       "1760.46,312.204 2249.26,312.204 2249.26,130.764 1760.46,130.764 \n",
       "  \" fill=\"#ffffff\" fill-rule=\"evenodd\" fill-opacity=\"1\"/>\n",
       "<polyline clip-path=\"url(#clip7601)\" style=\"stroke:#000000; stroke-width:4; stroke-opacity:1; fill:none\" points=\"\n",
       "  1760.46,312.204 2249.26,312.204 2249.26,130.764 1760.46,130.764 1760.46,312.204 \n",
       "  \"/>\n",
       "<polyline clip-path=\"url(#clip7601)\" style=\"stroke:#009af9; stroke-width:4; stroke-opacity:1; fill:none\" points=\"\n",
       "  1784.46,191.244 1928.46,191.244 \n",
       "  \"/>\n",
       "<g clip-path=\"url(#clip7601)\">\n",
       "<text style=\"fill:#000000; fill-opacity:1; font-family:Arial,Helvetica Neue,Helvetica,sans-serif; font-size:48px; text-anchor:start;\" transform=\"rotate(0, 1952.46, 208.744)\" x=\"1952.46\" y=\"208.744\">f</text>\n",
       "</g>\n",
       "<polyline clip-path=\"url(#clip7601)\" style=\"stroke:#e26f46; stroke-width:4; stroke-opacity:1; fill:none\" points=\"\n",
       "  1784.46,251.724 1928.46,251.724 \n",
       "  \"/>\n",
       "<g clip-path=\"url(#clip7601)\">\n",
       "<text style=\"fill:#000000; fill-opacity:1; font-family:Arial,Helvetica Neue,Helvetica,sans-serif; font-size:48px; text-anchor:start;\" transform=\"rotate(0, 1952.46, 269.224)\" x=\"1952.46\" y=\"269.224\">Interpolacja</text>\n",
       "</g>\n",
       "</svg>\n"
      ]
     },
     "execution_count": 20,
     "metadata": {},
     "output_type": "execute_result"
    }
   ],
   "source": [
    "Wezly = W(6)\n",
    "n=7\n",
    "C=Array{BigFloat,1}(undef, n)\n",
    "bk()\n",
    "plot(f, -4, 4, label=\"f\")\n",
    "plot!(Newton, -4 ,4, label=\"Interpolacja\")"
   ]
  },
  {
   "cell_type": "code",
   "execution_count": 21,
   "metadata": {},
   "outputs": [
    {
     "data": {
      "image/svg+xml": [
       "<?xml version=\"1.0\" encoding=\"utf-8\"?>\n",
       "<svg xmlns=\"http://www.w3.org/2000/svg\" xmlns:xlink=\"http://www.w3.org/1999/xlink\" width=\"600\" height=\"400\" viewBox=\"0 0 2400 1600\">\n",
       "<defs>\n",
       "  <clipPath id=\"clip7800\">\n",
       "    <rect x=\"0\" y=\"0\" width=\"2000\" height=\"2000\"/>\n",
       "  </clipPath>\n",
       "</defs>\n",
       "<defs>\n",
       "  <clipPath id=\"clip7801\">\n",
       "    <rect x=\"0\" y=\"0\" width=\"2400\" height=\"1600\"/>\n",
       "  </clipPath>\n",
       "</defs>\n",
       "<polygon clip-path=\"url(#clip7801)\" points=\"\n",
       "0,1600 2400,1600 2400,0 0,0 \n",
       "  \" fill=\"#ffffff\" fill-rule=\"evenodd\" fill-opacity=\"1\"/>\n",
       "<defs>\n",
       "  <clipPath id=\"clip7802\">\n",
       "    <rect x=\"480\" y=\"0\" width=\"1681\" height=\"1600\"/>\n",
       "  </clipPath>\n",
       "</defs>\n",
       "<polygon clip-path=\"url(#clip7801)\" points=\"\n",
       "189.504,1503.47 2321.26,1503.47 2321.26,47.2441 189.504,47.2441 \n",
       "  \" fill=\"#ffffff\" fill-rule=\"evenodd\" fill-opacity=\"1\"/>\n",
       "<defs>\n",
       "  <clipPath id=\"clip7803\">\n",
       "    <rect x=\"189\" y=\"47\" width=\"2133\" height=\"1457\"/>\n",
       "  </clipPath>\n",
       "</defs>\n",
       "<polyline clip-path=\"url(#clip7803)\" style=\"stroke:#000000; stroke-width:2; stroke-opacity:0.1; fill:none\" points=\"\n",
       "  244.907,1503.47 244.907,47.2441 \n",
       "  \"/>\n",
       "<polyline clip-path=\"url(#clip7803)\" style=\"stroke:#000000; stroke-width:2; stroke-opacity:0.1; fill:none\" points=\"\n",
       "  749.714,1503.47 749.714,47.2441 \n",
       "  \"/>\n",
       "<polyline clip-path=\"url(#clip7803)\" style=\"stroke:#000000; stroke-width:2; stroke-opacity:0.1; fill:none\" points=\"\n",
       "  1254.52,1503.47 1254.52,47.2441 \n",
       "  \"/>\n",
       "<polyline clip-path=\"url(#clip7803)\" style=\"stroke:#000000; stroke-width:2; stroke-opacity:0.1; fill:none\" points=\"\n",
       "  1759.33,1503.47 1759.33,47.2441 \n",
       "  \"/>\n",
       "<polyline clip-path=\"url(#clip7803)\" style=\"stroke:#000000; stroke-width:2; stroke-opacity:0.1; fill:none\" points=\"\n",
       "  2264.13,1503.47 2264.13,47.2441 \n",
       "  \"/>\n",
       "<polyline clip-path=\"url(#clip7803)\" style=\"stroke:#000000; stroke-width:2; stroke-opacity:0.1; fill:none\" points=\"\n",
       "  189.504,1327.54 2321.26,1327.54 \n",
       "  \"/>\n",
       "<polyline clip-path=\"url(#clip7803)\" style=\"stroke:#000000; stroke-width:2; stroke-opacity:0.1; fill:none\" points=\"\n",
       "  189.504,914.443 2321.26,914.443 \n",
       "  \"/>\n",
       "<polyline clip-path=\"url(#clip7803)\" style=\"stroke:#000000; stroke-width:2; stroke-opacity:0.1; fill:none\" points=\"\n",
       "  189.504,501.344 2321.26,501.344 \n",
       "  \"/>\n",
       "<polyline clip-path=\"url(#clip7803)\" style=\"stroke:#000000; stroke-width:2; stroke-opacity:0.1; fill:none\" points=\"\n",
       "  189.504,88.2453 2321.26,88.2453 \n",
       "  \"/>\n",
       "<polyline clip-path=\"url(#clip7801)\" style=\"stroke:#000000; stroke-width:4; stroke-opacity:1; fill:none\" points=\"\n",
       "  189.504,1503.47 2321.26,1503.47 \n",
       "  \"/>\n",
       "<polyline clip-path=\"url(#clip7801)\" style=\"stroke:#000000; stroke-width:4; stroke-opacity:1; fill:none\" points=\"\n",
       "  189.504,1503.47 189.504,47.2441 \n",
       "  \"/>\n",
       "<polyline clip-path=\"url(#clip7801)\" style=\"stroke:#000000; stroke-width:4; stroke-opacity:1; fill:none\" points=\"\n",
       "  244.907,1503.47 244.907,1481.63 \n",
       "  \"/>\n",
       "<polyline clip-path=\"url(#clip7801)\" style=\"stroke:#000000; stroke-width:4; stroke-opacity:1; fill:none\" points=\"\n",
       "  749.714,1503.47 749.714,1481.63 \n",
       "  \"/>\n",
       "<polyline clip-path=\"url(#clip7801)\" style=\"stroke:#000000; stroke-width:4; stroke-opacity:1; fill:none\" points=\"\n",
       "  1254.52,1503.47 1254.52,1481.63 \n",
       "  \"/>\n",
       "<polyline clip-path=\"url(#clip7801)\" style=\"stroke:#000000; stroke-width:4; stroke-opacity:1; fill:none\" points=\"\n",
       "  1759.33,1503.47 1759.33,1481.63 \n",
       "  \"/>\n",
       "<polyline clip-path=\"url(#clip7801)\" style=\"stroke:#000000; stroke-width:4; stroke-opacity:1; fill:none\" points=\"\n",
       "  2264.13,1503.47 2264.13,1481.63 \n",
       "  \"/>\n",
       "<polyline clip-path=\"url(#clip7801)\" style=\"stroke:#000000; stroke-width:4; stroke-opacity:1; fill:none\" points=\"\n",
       "  189.504,1327.54 221.48,1327.54 \n",
       "  \"/>\n",
       "<polyline clip-path=\"url(#clip7801)\" style=\"stroke:#000000; stroke-width:4; stroke-opacity:1; fill:none\" points=\"\n",
       "  189.504,914.443 221.48,914.443 \n",
       "  \"/>\n",
       "<polyline clip-path=\"url(#clip7801)\" style=\"stroke:#000000; stroke-width:4; stroke-opacity:1; fill:none\" points=\"\n",
       "  189.504,501.344 221.48,501.344 \n",
       "  \"/>\n",
       "<polyline clip-path=\"url(#clip7801)\" style=\"stroke:#000000; stroke-width:4; stroke-opacity:1; fill:none\" points=\"\n",
       "  189.504,88.2453 221.48,88.2453 \n",
       "  \"/>\n",
       "<g clip-path=\"url(#clip7801)\">\n",
       "<text style=\"fill:#000000; fill-opacity:1; font-family:Arial,Helvetica Neue,Helvetica,sans-serif; font-size:48px; text-anchor:middle;\" transform=\"rotate(0, 244.907, 1557.47)\" x=\"244.907\" y=\"1557.47\">-4</text>\n",
       "</g>\n",
       "<g clip-path=\"url(#clip7801)\">\n",
       "<text style=\"fill:#000000; fill-opacity:1; font-family:Arial,Helvetica Neue,Helvetica,sans-serif; font-size:48px; text-anchor:middle;\" transform=\"rotate(0, 749.714, 1557.47)\" x=\"749.714\" y=\"1557.47\">-2</text>\n",
       "</g>\n",
       "<g clip-path=\"url(#clip7801)\">\n",
       "<text style=\"fill:#000000; fill-opacity:1; font-family:Arial,Helvetica Neue,Helvetica,sans-serif; font-size:48px; text-anchor:middle;\" transform=\"rotate(0, 1254.52, 1557.47)\" x=\"1254.52\" y=\"1557.47\">0</text>\n",
       "</g>\n",
       "<g clip-path=\"url(#clip7801)\">\n",
       "<text style=\"fill:#000000; fill-opacity:1; font-family:Arial,Helvetica Neue,Helvetica,sans-serif; font-size:48px; text-anchor:middle;\" transform=\"rotate(0, 1759.33, 1557.47)\" x=\"1759.33\" y=\"1557.47\">2</text>\n",
       "</g>\n",
       "<g clip-path=\"url(#clip7801)\">\n",
       "<text style=\"fill:#000000; fill-opacity:1; font-family:Arial,Helvetica Neue,Helvetica,sans-serif; font-size:48px; text-anchor:middle;\" transform=\"rotate(0, 2264.13, 1557.47)\" x=\"2264.13\" y=\"1557.47\">4</text>\n",
       "</g>\n",
       "<g clip-path=\"url(#clip7801)\">\n",
       "<text style=\"fill:#000000; fill-opacity:1; font-family:Arial,Helvetica Neue,Helvetica,sans-serif; font-size:48px; text-anchor:end;\" transform=\"rotate(0, 165.504, 1345.04)\" x=\"165.504\" y=\"1345.04\">-0.5</text>\n",
       "</g>\n",
       "<g clip-path=\"url(#clip7801)\">\n",
       "<text style=\"fill:#000000; fill-opacity:1; font-family:Arial,Helvetica Neue,Helvetica,sans-serif; font-size:48px; text-anchor:end;\" transform=\"rotate(0, 165.504, 931.943)\" x=\"165.504\" y=\"931.943\">0.0</text>\n",
       "</g>\n",
       "<g clip-path=\"url(#clip7801)\">\n",
       "<text style=\"fill:#000000; fill-opacity:1; font-family:Arial,Helvetica Neue,Helvetica,sans-serif; font-size:48px; text-anchor:end;\" transform=\"rotate(0, 165.504, 518.844)\" x=\"165.504\" y=\"518.844\">0.5</text>\n",
       "</g>\n",
       "<g clip-path=\"url(#clip7801)\">\n",
       "<text style=\"fill:#000000; fill-opacity:1; font-family:Arial,Helvetica Neue,Helvetica,sans-serif; font-size:48px; text-anchor:end;\" transform=\"rotate(0, 165.504, 105.745)\" x=\"165.504\" y=\"105.745\">1.0</text>\n",
       "</g>\n",
       "<polyline clip-path=\"url(#clip7803)\" style=\"stroke:#009af9; stroke-width:4; stroke-opacity:1; fill:none\" points=\"\n",
       "  264.626,864.007 446.961,840.916 556.536,818.897 649.181,792.077 699.5,772.858 749.819,749.148 796.209,722.174 842.598,688.917 867.466,667.931 892.333,644.364 \n",
       "  917.2,617.896 942.068,588.195 970.879,549.329 999.69,505.298 1028.5,455.92 1057.31,401.425 1108.52,295.38 1159.73,190.372 1182.18,150.96 1204.63,119.308 \n",
       "  1215.86,107.185 1227.09,97.8927 1238.31,91.6386 1249.54,88.5672 1261.78,88.9277 1274.02,93.1455 1286.26,101.104 1298.5,112.586 1310.74,127.291 1322.98,144.853 \n",
       "  1335.22,164.86 1347.45,186.88 1396.7,287.265 1445.95,389.949 1473.18,442.46 1500.4,490.536 1527.63,533.847 1554.86,572.455 1580.76,605.08 1606.67,634.042 \n",
       "  1632.57,659.71 1658.47,682.454 1712.34,721.859 1766.21,752.756 1811.56,773.707 1856.91,791.053 1967.63,822.461 2071.72,842.49 2238.47,863.433 \n",
       "  \"/>\n",
       "<polyline clip-path=\"url(#clip7803)\" style=\"stroke:#e26f46; stroke-width:4; stroke-opacity:1; fill:none\" points=\"\n",
       "  249.837,951.136 254.767,1028.12 259.697,1097.25 264.626,1158.98 270.324,1221.66 276.022,1275.65 281.72,1321.57 287.418,1359.98 293.116,1391.44 298.814,1416.47 \n",
       "  304.512,1435.58 310.21,1449.23 315.908,1457.88 321.606,1461.97 327.304,1461.89 333.002,1458.04 338.7,1450.77 344.398,1440.44 350.096,1427.37 355.794,1411.86 \n",
       "  367.19,1374.71 378.585,1331.09 389.981,1282.88 401.377,1231.71 424.169,1125.91 446.961,1022.7 460.658,964.641 474.355,910.795 488.052,861.865 501.749,818.327 \n",
       "  515.445,780.455 529.142,748.354 542.839,721.977 556.536,701.156 568.117,687.683 579.697,677.771 591.278,671.169 602.859,667.596 626.02,668.316 649.181,677.351 \n",
       "  699.5,712.866 749.819,749.265 773.014,760.406 796.209,765.792 819.403,764.327 842.598,755.304 867.466,736.869 892.333,709.432 917.2,673.492 942.068,629.938 \n",
       "  970.879,571.579 999.69,506.988 1028.5,438.844 1057.31,370.02 1082.92,310.647 1108.52,255.039 1134.12,205.063 1159.73,162.396 1182.18,132.128 1204.63,109.361 \n",
       "  1227.09,94.6787 1249.54,88.4582 1274.02,91.4993 1298.5,104.691 1322.98,127.633 1347.45,159.623 1372.08,199.946 1396.7,247.188 1421.33,299.885 1445.95,356.399 \n",
       "  1500.4,486.075 1554.86,606.311 1580.76,654.959 1606.67,695.898 1632.57,727.954 1658.47,750.389 1685.41,763.26 1712.34,765.835 1739.28,759.161 1766.21,744.991 \n",
       "  1811.56,711.265 1856.91,678.965 1870.75,672.238 1884.59,667.975 1898.43,666.748 1912.27,669.114 1926.11,675.606 1939.95,686.716 1953.79,702.882 1967.63,724.468 \n",
       "  1980.64,749.949 1993.65,780.603 2006.67,816.464 2019.68,857.447 2032.69,903.328 2045.7,953.721 2058.71,1008.06 2071.72,1065.57 2092.56,1161.7 2113.41,1257.77 \n",
       "  2123.83,1303.5 2134.25,1346.21 2144.67,1384.58 2155.1,1417.14 2160.31,1430.72 2165.52,1442.21 2170.73,1451.36 2175.94,1457.94 2181.15,1461.66 2186.36,1462.26 \n",
       "  2191.57,1459.44 2196.78,1452.89 2201.99,1442.3 2207.21,1427.31 2212.42,1407.58 2217.63,1382.73 2222.84,1352.38 2228.05,1316.13 2233.26,1273.53 2238.47,1224.16 \n",
       "  2241.68,1190.19 2244.89,1153.37 2248.1,1113.58 2251.3,1070.7 2254.51,1024.61 2257.72,975.191 2260.93,922.311 \n",
       "  \"/>\n",
       "<polygon clip-path=\"url(#clip7801)\" points=\"\n",
       "1760.46,312.204 2249.26,312.204 2249.26,130.764 1760.46,130.764 \n",
       "  \" fill=\"#ffffff\" fill-rule=\"evenodd\" fill-opacity=\"1\"/>\n",
       "<polyline clip-path=\"url(#clip7801)\" style=\"stroke:#000000; stroke-width:4; stroke-opacity:1; fill:none\" points=\"\n",
       "  1760.46,312.204 2249.26,312.204 2249.26,130.764 1760.46,130.764 1760.46,312.204 \n",
       "  \"/>\n",
       "<polyline clip-path=\"url(#clip7801)\" style=\"stroke:#009af9; stroke-width:4; stroke-opacity:1; fill:none\" points=\"\n",
       "  1784.46,191.244 1928.46,191.244 \n",
       "  \"/>\n",
       "<g clip-path=\"url(#clip7801)\">\n",
       "<text style=\"fill:#000000; fill-opacity:1; font-family:Arial,Helvetica Neue,Helvetica,sans-serif; font-size:48px; text-anchor:start;\" transform=\"rotate(0, 1952.46, 208.744)\" x=\"1952.46\" y=\"208.744\">f</text>\n",
       "</g>\n",
       "<polyline clip-path=\"url(#clip7801)\" style=\"stroke:#e26f46; stroke-width:4; stroke-opacity:1; fill:none\" points=\"\n",
       "  1784.46,251.724 1928.46,251.724 \n",
       "  \"/>\n",
       "<g clip-path=\"url(#clip7801)\">\n",
       "<text style=\"fill:#000000; fill-opacity:1; font-family:Arial,Helvetica Neue,Helvetica,sans-serif; font-size:48px; text-anchor:start;\" transform=\"rotate(0, 1952.46, 269.224)\" x=\"1952.46\" y=\"269.224\">Interpolacja</text>\n",
       "</g>\n",
       "</svg>\n"
      ]
     },
     "execution_count": 21,
     "metadata": {},
     "output_type": "execute_result"
    }
   ],
   "source": [
    "Wezly = W(8)\n",
    "n=9\n",
    "C=Array{BigFloat,1}(undef, n)\n",
    "bk()\n",
    "plot(f, -4, 4, label=\"f\")\n",
    "plot!(Newton, -4 ,4, label=\"Interpolacja\")"
   ]
  },
  {
   "cell_type": "code",
   "execution_count": 22,
   "metadata": {},
   "outputs": [
    {
     "data": {
      "image/svg+xml": [
       "<?xml version=\"1.0\" encoding=\"utf-8\"?>\n",
       "<svg xmlns=\"http://www.w3.org/2000/svg\" xmlns:xlink=\"http://www.w3.org/1999/xlink\" width=\"600\" height=\"400\" viewBox=\"0 0 2400 1600\">\n",
       "<defs>\n",
       "  <clipPath id=\"clip8000\">\n",
       "    <rect x=\"0\" y=\"0\" width=\"2000\" height=\"2000\"/>\n",
       "  </clipPath>\n",
       "</defs>\n",
       "<defs>\n",
       "  <clipPath id=\"clip8001\">\n",
       "    <rect x=\"0\" y=\"0\" width=\"2400\" height=\"1600\"/>\n",
       "  </clipPath>\n",
       "</defs>\n",
       "<polygon clip-path=\"url(#clip8001)\" points=\"\n",
       "0,1600 2400,1600 2400,0 0,0 \n",
       "  \" fill=\"#ffffff\" fill-rule=\"evenodd\" fill-opacity=\"1\"/>\n",
       "<defs>\n",
       "  <clipPath id=\"clip8002\">\n",
       "    <rect x=\"480\" y=\"0\" width=\"1681\" height=\"1600\"/>\n",
       "  </clipPath>\n",
       "</defs>\n",
       "<polygon clip-path=\"url(#clip8001)\" points=\"\n",
       "161.394,1503.47 2321.26,1503.47 2321.26,47.2441 161.394,47.2441 \n",
       "  \" fill=\"#ffffff\" fill-rule=\"evenodd\" fill-opacity=\"1\"/>\n",
       "<defs>\n",
       "  <clipPath id=\"clip8003\">\n",
       "    <rect x=\"161\" y=\"47\" width=\"2161\" height=\"1457\"/>\n",
       "  </clipPath>\n",
       "</defs>\n",
       "<polyline clip-path=\"url(#clip8003)\" style=\"stroke:#000000; stroke-width:2; stroke-opacity:0.1; fill:none\" points=\"\n",
       "  220.028,1503.47 220.028,47.2441 \n",
       "  \"/>\n",
       "<polyline clip-path=\"url(#clip8003)\" style=\"stroke:#000000; stroke-width:2; stroke-opacity:0.1; fill:none\" points=\"\n",
       "  730.865,1503.47 730.865,47.2441 \n",
       "  \"/>\n",
       "<polyline clip-path=\"url(#clip8003)\" style=\"stroke:#000000; stroke-width:2; stroke-opacity:0.1; fill:none\" points=\"\n",
       "  1241.7,1503.47 1241.7,47.2441 \n",
       "  \"/>\n",
       "<polyline clip-path=\"url(#clip8003)\" style=\"stroke:#000000; stroke-width:2; stroke-opacity:0.1; fill:none\" points=\"\n",
       "  1752.54,1503.47 1752.54,47.2441 \n",
       "  \"/>\n",
       "<polyline clip-path=\"url(#clip8003)\" style=\"stroke:#000000; stroke-width:2; stroke-opacity:0.1; fill:none\" points=\"\n",
       "  2263.38,1503.47 2263.38,47.2441 \n",
       "  \"/>\n",
       "<polyline clip-path=\"url(#clip8003)\" style=\"stroke:#000000; stroke-width:2; stroke-opacity:0.1; fill:none\" points=\"\n",
       "  161.394,1366.79 2321.26,1366.79 \n",
       "  \"/>\n",
       "<polyline clip-path=\"url(#clip8003)\" style=\"stroke:#000000; stroke-width:2; stroke-opacity:0.1; fill:none\" points=\"\n",
       "  161.394,1161.07 2321.26,1161.07 \n",
       "  \"/>\n",
       "<polyline clip-path=\"url(#clip8003)\" style=\"stroke:#000000; stroke-width:2; stroke-opacity:0.1; fill:none\" points=\"\n",
       "  161.394,955.339 2321.26,955.339 \n",
       "  \"/>\n",
       "<polyline clip-path=\"url(#clip8003)\" style=\"stroke:#000000; stroke-width:2; stroke-opacity:0.1; fill:none\" points=\"\n",
       "  161.394,749.613 2321.26,749.613 \n",
       "  \"/>\n",
       "<polyline clip-path=\"url(#clip8003)\" style=\"stroke:#000000; stroke-width:2; stroke-opacity:0.1; fill:none\" points=\"\n",
       "  161.394,543.887 2321.26,543.887 \n",
       "  \"/>\n",
       "<polyline clip-path=\"url(#clip8003)\" style=\"stroke:#000000; stroke-width:2; stroke-opacity:0.1; fill:none\" points=\"\n",
       "  161.394,338.162 2321.26,338.162 \n",
       "  \"/>\n",
       "<polyline clip-path=\"url(#clip8003)\" style=\"stroke:#000000; stroke-width:2; stroke-opacity:0.1; fill:none\" points=\"\n",
       "  161.394,132.436 2321.26,132.436 \n",
       "  \"/>\n",
       "<polyline clip-path=\"url(#clip8001)\" style=\"stroke:#000000; stroke-width:4; stroke-opacity:1; fill:none\" points=\"\n",
       "  161.394,1503.47 2321.26,1503.47 \n",
       "  \"/>\n",
       "<polyline clip-path=\"url(#clip8001)\" style=\"stroke:#000000; stroke-width:4; stroke-opacity:1; fill:none\" points=\"\n",
       "  161.394,1503.47 161.394,47.2441 \n",
       "  \"/>\n",
       "<polyline clip-path=\"url(#clip8001)\" style=\"stroke:#000000; stroke-width:4; stroke-opacity:1; fill:none\" points=\"\n",
       "  220.028,1503.47 220.028,1481.63 \n",
       "  \"/>\n",
       "<polyline clip-path=\"url(#clip8001)\" style=\"stroke:#000000; stroke-width:4; stroke-opacity:1; fill:none\" points=\"\n",
       "  730.865,1503.47 730.865,1481.63 \n",
       "  \"/>\n",
       "<polyline clip-path=\"url(#clip8001)\" style=\"stroke:#000000; stroke-width:4; stroke-opacity:1; fill:none\" points=\"\n",
       "  1241.7,1503.47 1241.7,1481.63 \n",
       "  \"/>\n",
       "<polyline clip-path=\"url(#clip8001)\" style=\"stroke:#000000; stroke-width:4; stroke-opacity:1; fill:none\" points=\"\n",
       "  1752.54,1503.47 1752.54,1481.63 \n",
       "  \"/>\n",
       "<polyline clip-path=\"url(#clip8001)\" style=\"stroke:#000000; stroke-width:4; stroke-opacity:1; fill:none\" points=\"\n",
       "  2263.38,1503.47 2263.38,1481.63 \n",
       "  \"/>\n",
       "<polyline clip-path=\"url(#clip8001)\" style=\"stroke:#000000; stroke-width:4; stroke-opacity:1; fill:none\" points=\"\n",
       "  161.394,1366.79 193.792,1366.79 \n",
       "  \"/>\n",
       "<polyline clip-path=\"url(#clip8001)\" style=\"stroke:#000000; stroke-width:4; stroke-opacity:1; fill:none\" points=\"\n",
       "  161.394,1161.07 193.792,1161.07 \n",
       "  \"/>\n",
       "<polyline clip-path=\"url(#clip8001)\" style=\"stroke:#000000; stroke-width:4; stroke-opacity:1; fill:none\" points=\"\n",
       "  161.394,955.339 193.792,955.339 \n",
       "  \"/>\n",
       "<polyline clip-path=\"url(#clip8001)\" style=\"stroke:#000000; stroke-width:4; stroke-opacity:1; fill:none\" points=\"\n",
       "  161.394,749.613 193.792,749.613 \n",
       "  \"/>\n",
       "<polyline clip-path=\"url(#clip8001)\" style=\"stroke:#000000; stroke-width:4; stroke-opacity:1; fill:none\" points=\"\n",
       "  161.394,543.887 193.792,543.887 \n",
       "  \"/>\n",
       "<polyline clip-path=\"url(#clip8001)\" style=\"stroke:#000000; stroke-width:4; stroke-opacity:1; fill:none\" points=\"\n",
       "  161.394,338.162 193.792,338.162 \n",
       "  \"/>\n",
       "<polyline clip-path=\"url(#clip8001)\" style=\"stroke:#000000; stroke-width:4; stroke-opacity:1; fill:none\" points=\"\n",
       "  161.394,132.436 193.792,132.436 \n",
       "  \"/>\n",
       "<g clip-path=\"url(#clip8001)\">\n",
       "<text style=\"fill:#000000; fill-opacity:1; font-family:Arial,Helvetica Neue,Helvetica,sans-serif; font-size:48px; text-anchor:middle;\" transform=\"rotate(0, 220.028, 1557.47)\" x=\"220.028\" y=\"1557.47\">-4</text>\n",
       "</g>\n",
       "<g clip-path=\"url(#clip8001)\">\n",
       "<text style=\"fill:#000000; fill-opacity:1; font-family:Arial,Helvetica Neue,Helvetica,sans-serif; font-size:48px; text-anchor:middle;\" transform=\"rotate(0, 730.865, 1557.47)\" x=\"730.865\" y=\"1557.47\">-2</text>\n",
       "</g>\n",
       "<g clip-path=\"url(#clip8001)\">\n",
       "<text style=\"fill:#000000; fill-opacity:1; font-family:Arial,Helvetica Neue,Helvetica,sans-serif; font-size:48px; text-anchor:middle;\" transform=\"rotate(0, 1241.7, 1557.47)\" x=\"1241.7\" y=\"1557.47\">0</text>\n",
       "</g>\n",
       "<g clip-path=\"url(#clip8001)\">\n",
       "<text style=\"fill:#000000; fill-opacity:1; font-family:Arial,Helvetica Neue,Helvetica,sans-serif; font-size:48px; text-anchor:middle;\" transform=\"rotate(0, 1752.54, 1557.47)\" x=\"1752.54\" y=\"1557.47\">2</text>\n",
       "</g>\n",
       "<g clip-path=\"url(#clip8001)\">\n",
       "<text style=\"fill:#000000; fill-opacity:1; font-family:Arial,Helvetica Neue,Helvetica,sans-serif; font-size:48px; text-anchor:middle;\" transform=\"rotate(0, 2263.38, 1557.47)\" x=\"2263.38\" y=\"1557.47\">4</text>\n",
       "</g>\n",
       "<g clip-path=\"url(#clip8001)\">\n",
       "<text style=\"fill:#000000; fill-opacity:1; font-family:Arial,Helvetica Neue,Helvetica,sans-serif; font-size:48px; text-anchor:end;\" transform=\"rotate(0, 137.394, 1384.29)\" x=\"137.394\" y=\"1384.29\">0.0</text>\n",
       "</g>\n",
       "<g clip-path=\"url(#clip8001)\">\n",
       "<text style=\"fill:#000000; fill-opacity:1; font-family:Arial,Helvetica Neue,Helvetica,sans-serif; font-size:48px; text-anchor:end;\" transform=\"rotate(0, 137.394, 1178.57)\" x=\"137.394\" y=\"1178.57\">0.2</text>\n",
       "</g>\n",
       "<g clip-path=\"url(#clip8001)\">\n",
       "<text style=\"fill:#000000; fill-opacity:1; font-family:Arial,Helvetica Neue,Helvetica,sans-serif; font-size:48px; text-anchor:end;\" transform=\"rotate(0, 137.394, 972.839)\" x=\"137.394\" y=\"972.839\">0.4</text>\n",
       "</g>\n",
       "<g clip-path=\"url(#clip8001)\">\n",
       "<text style=\"fill:#000000; fill-opacity:1; font-family:Arial,Helvetica Neue,Helvetica,sans-serif; font-size:48px; text-anchor:end;\" transform=\"rotate(0, 137.394, 767.113)\" x=\"137.394\" y=\"767.113\">0.6</text>\n",
       "</g>\n",
       "<g clip-path=\"url(#clip8001)\">\n",
       "<text style=\"fill:#000000; fill-opacity:1; font-family:Arial,Helvetica Neue,Helvetica,sans-serif; font-size:48px; text-anchor:end;\" transform=\"rotate(0, 137.394, 561.387)\" x=\"137.394\" y=\"561.387\">0.8</text>\n",
       "</g>\n",
       "<g clip-path=\"url(#clip8001)\">\n",
       "<text style=\"fill:#000000; fill-opacity:1; font-family:Arial,Helvetica Neue,Helvetica,sans-serif; font-size:48px; text-anchor:end;\" transform=\"rotate(0, 137.394, 355.662)\" x=\"137.394\" y=\"355.662\">1.0</text>\n",
       "</g>\n",
       "<g clip-path=\"url(#clip8001)\">\n",
       "<text style=\"fill:#000000; fill-opacity:1; font-family:Arial,Helvetica Neue,Helvetica,sans-serif; font-size:48px; text-anchor:end;\" transform=\"rotate(0, 137.394, 149.936)\" x=\"137.394\" y=\"149.936\">1.2</text>\n",
       "</g>\n",
       "<polyline clip-path=\"url(#clip8003)\" style=\"stroke:#009af9; stroke-width:4; stroke-opacity:1; fill:none\" points=\"\n",
       "  239.983,1304 424.496,1275.25 535.38,1247.84 629.131,1214.44 680.051,1190.52 730.972,1161 777.915,1127.41 824.859,1086.01 850.024,1059.88 875.188,1030.54 \n",
       "  900.352,997.585 925.517,960.608 954.672,912.218 983.828,857.399 1012.98,795.922 1042.14,728.075 1093.96,596.048 1145.78,465.311 1168.5,416.242 1191.22,376.835 \n",
       "  1202.58,361.742 1213.94,350.173 1225.3,342.386 1236.66,338.562 1249.05,339.011 1261.43,344.262 1273.82,354.17 1286.2,368.466 1298.59,386.774 1310.98,408.639 \n",
       "  1323.36,433.549 1335.75,460.963 1385.58,585.944 1435.42,713.788 1462.97,779.165 1490.52,839.02 1518.07,892.943 1545.63,941.01 1571.84,981.629 1598.05,1017.69 \n",
       "  1624.27,1049.64 1650.48,1077.96 1704.99,1127.02 1759.51,1165.49 1805.4,1191.57 1851.28,1213.17 1963.33,1252.27 2068.66,1277.21 2237.41,1303.28 \n",
       "  \"/>\n",
       "<polyline clip-path=\"url(#clip8003)\" style=\"stroke:#e26f46; stroke-width:4; stroke-opacity:1; fill:none\" points=\"\n",
       "  222.522,1187.93 225.017,1077.46 227.511,974.556 230.005,878.904 232.5,790.21 234.994,708.183 236.241,669.581 237.489,632.542 238.736,597.031 239.983,563.014 \n",
       "  242.866,489.923 245.749,424.248 248.632,365.608 251.515,313.635 254.398,267.973 257.281,228.279 260.164,194.224 263.047,165.49 265.93,141.77 268.813,122.77 \n",
       "  271.696,108.206 274.579,97.8059 280.345,88.4582 286.111,92.7521 291.877,108.868 297.643,135.134 303.409,170.015 309.175,212.108 314.941,260.131 320.707,312.919 \n",
       "  326.473,369.414 332.239,428.661 355.303,677.263 378.367,915.754 389.899,1022.92 401.431,1119.35 412.964,1203.92 424.496,1276.03 431.426,1313.31 438.356,1346.09 \n",
       "  445.286,1374.44 452.217,1398.48 466.077,1434.27 479.938,1454.94 493.798,1462.26 507.659,1458.15 521.519,1444.6 535.38,1423.57 582.256,1321.29 629.131,1213.73 \n",
       "  654.591,1166.39 680.051,1130.32 705.512,1105.78 730.972,1091.45 777.915,1082.89 824.859,1079.51 850.024,1072.41 875.188,1058.08 900.352,1034.62 925.517,1000.92 \n",
       "  954.672,948.808 983.828,883.748 1012.98,808.207 1042.14,725.803 1068.05,650.388 1093.96,576.481 1119.87,507.573 1145.78,446.998 1168.5,403.103 1191.22,369.599 \n",
       "  1213.94,347.776 1236.66,338.48 1261.43,343.029 1286.2,362.677 1310.98,396.52 1335.75,443.008 1360.67,500.39 1385.58,565.807 1410.5,636.322 1435.42,708.839 \n",
       "  1462.97,787.64 1490.52,861.262 1518.07,926.423 1545.63,980.681 1571.84,1020.9 1598.05,1049.79 1624.27,1068.17 1650.48,1077.88 1704.99,1082.87 1759.51,1094.53 \n",
       "  1782.45,1109.37 1805.4,1132.78 1828.34,1165.62 1851.28,1207.64 1879.3,1269.08 1907.31,1336.08 1935.32,1399.37 1963.33,1446.39 1976.5,1458.63 1989.67,1462.26 \n",
       "  2002.83,1455.56 2016,1436.88 2029.16,1404.71 2042.33,1357.73 2055.5,1294.96 2068.66,1215.87 2079.21,1140.74 2089.76,1055.52 2100.3,960.96 2110.85,858.232 \n",
       "  2131.94,635.678 2153.04,409.207 2163.58,304.562 2174.13,212.906 2179.4,174.043 2184.68,141.095 2189.95,115.122 2195.22,97.2741 2200.5,88.7957 2205.77,91.0328 \n",
       "  2211.04,105.437 2216.32,133.572 2218.95,153.309 2221.59,177.118 2224.23,205.229 2226.86,237.88 2229.5,275.316 2232.14,317.793 2234.77,365.573 2237.41,418.928 \n",
       "  2239.03,454.667 2240.65,492.692 2242.28,533.073 2243.9,575.879 2247.15,669.056 2250.39,772.813 2253.64,887.764 2256.89,1014.55 2260.13,1153.82 \n",
       "  \"/>\n",
       "<polygon clip-path=\"url(#clip8001)\" points=\"\n",
       "1760.46,312.204 2249.26,312.204 2249.26,130.764 1760.46,130.764 \n",
       "  \" fill=\"#ffffff\" fill-rule=\"evenodd\" fill-opacity=\"1\"/>\n",
       "<polyline clip-path=\"url(#clip8001)\" style=\"stroke:#000000; stroke-width:4; stroke-opacity:1; fill:none\" points=\"\n",
       "  1760.46,312.204 2249.26,312.204 2249.26,130.764 1760.46,130.764 1760.46,312.204 \n",
       "  \"/>\n",
       "<polyline clip-path=\"url(#clip8001)\" style=\"stroke:#009af9; stroke-width:4; stroke-opacity:1; fill:none\" points=\"\n",
       "  1784.46,191.244 1928.46,191.244 \n",
       "  \"/>\n",
       "<g clip-path=\"url(#clip8001)\">\n",
       "<text style=\"fill:#000000; fill-opacity:1; font-family:Arial,Helvetica Neue,Helvetica,sans-serif; font-size:48px; text-anchor:start;\" transform=\"rotate(0, 1952.46, 208.744)\" x=\"1952.46\" y=\"208.744\">f</text>\n",
       "</g>\n",
       "<polyline clip-path=\"url(#clip8001)\" style=\"stroke:#e26f46; stroke-width:4; stroke-opacity:1; fill:none\" points=\"\n",
       "  1784.46,251.724 1928.46,251.724 \n",
       "  \"/>\n",
       "<g clip-path=\"url(#clip8001)\">\n",
       "<text style=\"fill:#000000; fill-opacity:1; font-family:Arial,Helvetica Neue,Helvetica,sans-serif; font-size:48px; text-anchor:start;\" transform=\"rotate(0, 1952.46, 269.224)\" x=\"1952.46\" y=\"269.224\">Interpolacja</text>\n",
       "</g>\n",
       "</svg>\n"
      ]
     },
     "execution_count": 22,
     "metadata": {},
     "output_type": "execute_result"
    }
   ],
   "source": [
    "Wezly = W(10)\n",
    "n=11\n",
    "C=Array{BigFloat,1}(undef, n)\n",
    "bk()\n",
    "plot(f, -4, 4, label=\"f\")\n",
    "plot!(Newton, -4 ,4, label=\"Interpolacja\")"
   ]
  },
  {
   "cell_type": "code",
   "execution_count": null,
   "metadata": {},
   "outputs": [],
   "source": []
  }
 ],
 "metadata": {
  "@webio": {
   "lastCommId": "1637f9c78b9048d782abd029342ee6fe",
   "lastKernelId": "269630a5-ecf8-4b27-9cab-3507f0b85b99"
  },
  "kernelspec": {
   "display_name": "Julia 1.0.1",
   "language": "julia",
   "name": "julia-1.0"
  },
  "language_info": {
   "file_extension": ".jl",
   "mimetype": "application/julia",
   "name": "julia",
   "version": "1.0.1"
  }
 },
 "nbformat": 4,
 "nbformat_minor": 2
}
