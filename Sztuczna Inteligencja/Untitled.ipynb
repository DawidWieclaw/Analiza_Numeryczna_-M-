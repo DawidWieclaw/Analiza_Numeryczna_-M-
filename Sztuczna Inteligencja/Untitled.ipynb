{
 "cells": [
  {
   "cell_type": "code",
   "execution_count": 1,
   "metadata": {},
   "outputs": [],
   "source": [
    "Stack = []\n",
    "Vis = [0]*8"
   ]
  },
  {
   "cell_type": "markdown",
   "metadata": {},
   "source": [
    "## Inicjalizacja tablicy odwiedzonych"
   ]
  },
  {
   "cell_type": "code",
   "execution_count": 2,
   "metadata": {},
   "outputs": [],
   "source": [
    "def reset():\n",
    "    Stack = []\n",
    "    for a in range(len(Vis)):\n",
    "        Vis[a]=[0]*8\n",
    "        for b in range(len(Vis[a])):\n",
    "            Vis[a][b] = [0]*8\n",
    "            for c in range(len(Vis[a][b])):\n",
    "                Vis[a][b][c] = [0]*8\n",
    "                for d in range(len(Vis)):\n",
    "                    Vis[a][b][c][d] = [0]*8\n",
    "                    for e in range(len(Vis)):\n",
    "                        Vis[a][b][c][d][e] = [0]*8\n",
    "reset()"
   ]
  },
  {
   "cell_type": "markdown",
   "metadata": {},
   "source": [
    "## Funkcje wyznaczające możliwe ruchy z danego położenia"
   ]
  },
  {
   "cell_type": "markdown",
   "metadata": {},
   "source": [
    "### Dla czarnego króla"
   ]
  },
  {
   "cell_type": "code",
   "execution_count": 3,
   "metadata": {},
   "outputs": [],
   "source": [
    "def sensBlack(s,i,j):\n",
    "    if i<0 or i>7 or j>7 or j<0: #ruch poza plansze\n",
    "        return False\n",
    "    if i==s.Wtx or j==s.Wty: #pod bicie wieży \n",
    "        return False\n",
    "    if abs(i-s.Wkx)<2 and abs(j-s.Wky)<2:\n",
    "        return False #pod bicie króla\n",
    "    return True"
   ]
  },
  {
   "cell_type": "markdown",
   "metadata": {},
   "source": [
    "### Dla Białego Króla"
   ]
  },
  {
   "cell_type": "code",
   "execution_count": 4,
   "metadata": {},
   "outputs": [],
   "source": [
    "def sensWhiteKing(s,i,j): # jeszce wskakiwanie na pola wiezy i krola wzajemne\n",
    "    if i<0 or i>7 or j<0 or j>7: #ruch poza plansze\n",
    "        return False\n",
    "    #if abs(i-s.Bkx)>abs(s.Wkx-s.Bkx) and abs(j-s.Bky)>abs(s.Wky-s.Bky):\n",
    "    #    return False # oddala sie od czarnego krola\n",
    "    if i==s.Wkx and j==s.Wky: #brak zmiany\n",
    "        return False\n",
    "    if abs(i-s.Bkx)<2 and abs(j-s.Bky)<2: # pod bicie króla\n",
    "        return False #bez ochrony wieży\n",
    "    return True"
   ]
  },
  {
   "cell_type": "markdown",
   "metadata": {},
   "source": [
    "### Dla białej wieży"
   ]
  },
  {
   "cell_type": "code",
   "execution_count": 5,
   "metadata": {},
   "outputs": [],
   "source": [
    "def sensWhiteTower(s,i,j):\n",
    "    if abs(s.Wkx-s.Bkx)>3 or abs(s.Wky-s.Bky)>3 or not (s.Bkx==0 or s.Bkx==7 or s.Bky == 0 or s.Bky == 7):\n",
    "        return False\n",
    "    if i==s.Wtx and j==s.Wty: #brak zmiany\n",
    "        return False\n",
    "    #if i<0 or j<0 or i>7 or j>7:\n",
    "    #    return False\n",
    "    if abs(i-s.Bkx)<2 and abs(j-s.Bky)<2: # pod bicie króla\n",
    "        if abs(i-s.Wkx)<2 and abs(j-s.Wky)<2: # chronione królem\n",
    "            return True\n",
    "        return False\n",
    "    return True"
   ]
  },
  {
   "cell_type": "markdown",
   "metadata": {},
   "source": [
    "### Funkcja sprawdzająca czy zachodzi mat (lub pat)"
   ]
  },
  {
   "cell_type": "code",
   "execution_count": 6,
   "metadata": {},
   "outputs": [],
   "source": [
    "def ifMat(s, move): # czy w danej sytuacji wystepuje mat\n",
    "    if move == 0:\n",
    "        return False\n",
    "    sensRuch = s.sensowneRuchy(1)\n",
    "    \n",
    "    b=False\n",
    "    if sensBlack(s, s.Bkx, s.Bky)==False: # czyli jest bicie\n",
    "        #print(\"BICIE:\")\n",
    "        #print(s.Bkx, s.Bky, s.Wkx, s.Wky, s.Wtx, s.Wty)\n",
    "        b=True\n",
    "    \n",
    "    if len(sensRuch)==0: # nie ma sensownych ruchow\n",
    "        if b == True:\n",
    "            return True # mat\n",
    "        else:\n",
    "            return 3.14 # pat\n",
    "    return False # nic  return False\n",
    "    \n",
    "    if b==True:\n",
    "        return True\n",
    "    return 3.14 # pat"
   ]
  },
  {
   "cell_type": "markdown",
   "metadata": {},
   "source": [
    "## Klasa opisująca dane położenie pionków na planszy"
   ]
  },
  {
   "cell_type": "code",
   "execution_count": 7,
   "metadata": {},
   "outputs": [],
   "source": [
    "class Sytuacja:\n",
    "    Bkx,Bky,Wkx,Wky,Wtx,Wty,m,n=0,0,0,0,0,0,0,0 # m = 1 to czarne m = 0  biale\n",
    "    rodzic = 0\n",
    "    odl = 0;\n",
    "    def nadajRodzica(self, s):\n",
    "        self.rodzic = s\n",
    "    def sensowneRuchy(self, m):\n",
    "        sensRuch = set()\n",
    "        if m==1: # rusza sie czarny samotny krol\n",
    "            for i in range(self.Bkx-1, self.Bkx+2):\n",
    "                for j in range(self.Bky-1, self.Bky+2):\n",
    "                    if sensBlack(self,i,j):\n",
    "                        q = Sytuacja()\n",
    "                        q.Bkx, q.Bky, q.Wkx, q.Wky, q.Wtx, q.Wty, q.m,q.n=i,j,self.Wkx,self.Wky,self.Wtx,self.Wty,0,self.n+1\n",
    "                        sensRuch.add(q)\n",
    "        else:\n",
    "            for i in range(self.Wkx-1, self.Wkx+2):\n",
    "                for j in range(self.Wky-1, self.Wky+2):\n",
    "                    if sensWhiteKing(self,i,j):\n",
    "                        q = Sytuacja()\n",
    "                        q.Bkx, q.Bky, q.Wkx, q.Wky, q.Wtx, q.Wty, q.m,q.n=self.Bkx,self.Bky,i,j,self.Wtx,self.Wty,1,self.n+1\n",
    "                        sensRuch.add(q)\n",
    "            for i in range(0,8):\n",
    "                if sensWhiteTower(self, i, self.Wty):\n",
    "                    q = Sytuacja()\n",
    "                    q.Bkx, q.Bky, q.Wkx, q.Wky, q.Wtx, q.Wty, q.m,q.n=self.Bkx,self.Bky,self.Wkx,self.Wky,i,self.Wty,1,self.n+1\n",
    "                    sensRuch.add(q)\n",
    "                if sensWhiteTower(self, self.Wtx, i):\n",
    "                    q = Sytuacja()\n",
    "                    q.Bkx, q.Bky, q.Wkx, q.Wky, q.Wtx, q.Wty, q.m,q.n=self.Bkx,self.Bky,self.Wkx,self.Wky,self.Wtx,i,1,self.n+1\n",
    "                    sensRuch.add(q)\n",
    "        return sensRuch"
   ]
  },
  {
   "cell_type": "markdown",
   "metadata": {},
   "source": [
    "## Modyfikacja algorytmu przeszukiwania wszerz szukająca najkrótszej drogi do mata"
   ]
  },
  {
   "cell_type": "code",
   "execution_count": 8,
   "metadata": {},
   "outputs": [],
   "source": [
    "import time\n",
    "\n",
    "\n",
    "\n",
    "def BFS(word, deb):\n",
    "    maxS=0\n",
    "    reset()\n",
    "    first = Sytuacja()\n",
    "    first.Bkx, first.Bky, first.Wkx, first.Wky, first.Wtx, first.Wty, first.n, first.m=translate(word)\n",
    "    print(translate(word))\n",
    "    Stack.append(first) ## tutaj korzen bez rodzica\n",
    "    debug = deb\n",
    "    \n",
    "    \n",
    "    Vis[first.Bkx][first.Bky][first.Wkx][first.Wky][first.Wtx][first.Wty]=1\n",
    "    \n",
    "    \n",
    "    start_time = time.time()\n",
    "    while len(Stack)>0:\n",
    "        u=Stack.pop(0)\n",
    "        p=ifMat(u, u.m)\n",
    "        #print(\"XD\")\n",
    "        if p==True: # mat\n",
    "            if debug:\n",
    "                zwrocRuchy(u)\n",
    "            print(maxS)\n",
    "            print(\"--- %s seconds ---\" % (time.time() - start_time))\n",
    "            return(u.n)\n",
    "        \n",
    "        if p==3.14: # pat\n",
    "            continue\n",
    "        sensRuch = u.sensowneRuchy(u.m)\n",
    "        if len(Stack)>maxS:\n",
    "            maxS=len(Stack)\n",
    "        for x in sensRuch:\n",
    "            if Vis[x.Bkx][x.Bky][x.Wkx][x.Wky][x.Wtx][x.Wty]==0:\n",
    "                Vis[x.Bkx][x.Bky][x.Wkx][x.Wky][x.Wtx][x.Wty]=1\n",
    "                x.nadajRodzica(u)\n",
    "                Stack.append(x)\n",
    "    \n",
    "    return"
   ]
  },
  {
   "cell_type": "markdown",
   "metadata": {},
   "source": [
    "## Wypisywanie danego położenia"
   ]
  },
  {
   "cell_type": "code",
   "execution_count": 9,
   "metadata": {},
   "outputs": [],
   "source": [
    "def wypiszWsp(q):\n",
    "    print(q.Bkx, q.Bky, q.Wkx, q.Wky, q.Wtx, q.Wty)"
   ]
  },
  {
   "cell_type": "markdown",
   "metadata": {},
   "source": [
    "## Zwracanie drogi do danego położenia"
   ]
  },
  {
   "cell_type": "code",
   "execution_count": 10,
   "metadata": {},
   "outputs": [],
   "source": [
    "def zwrocRuchy(s):\n",
    "    wypiszWsp(s)\n",
    "    if not s.rodzic==0:\n",
    "        zwrocRuchy(s.rodzic)"
   ]
  },
  {
   "cell_type": "code",
   "execution_count": 11,
   "metadata": {},
   "outputs": [],
   "source": [
    "def translate(word):\n",
    "    T = str.split(word, \" \")\n",
    "    Bkx = ord(T[3][0])-97\n",
    "    Bky = ord(T[3][1])-49\n",
    "    Wkx = ord(T[1][0])-97\n",
    "    Wky = ord(T[1][1])-49\n",
    "    Wtx = ord(T[2][0])-97\n",
    "    Wty = ord(T[2][1])-49\n",
    "    if T[0] == 'black':\n",
    "        m=1\n",
    "    else:\n",
    "        m=0\n",
    "    return Bkx, Bky, Wkx, Wky, Wtx, Wty, 0, m    "
   ]
  },
  {
   "cell_type": "code",
   "execution_count": 12,
   "metadata": {},
   "outputs": [],
   "source": [
    "def translateText():\n",
    "    file = open (\"zad1_input.txt\")\n",
    "    output = open(\"zad1_output.txt\", \"w+\")\n",
    "    z = file.readline()\n",
    "    v = (BFS(z, True))\n",
    "    print(v)\n",
    "    output.write(str(v))"
   ]
  },
  {
   "cell_type": "code",
   "execution_count": 13,
   "metadata": {},
   "outputs": [
    {
     "name": "stdout",
     "output_type": "stream",
     "text": [
      "(3, 3, 7, 5, 0, 3, 0, 0)\n",
      "7 0 6 2 0 0\n",
      "7 0 6 2 0 3\n",
      "6 0 6 2 0 3\n",
      "6 0 5 3 0 3\n",
      "5 1 5 3 0 3\n",
      "5 1 5 4 0 3\n",
      "4 2 5 4 0 3\n",
      "4 2 6 5 0 3\n",
      "3 3 6 5 0 3\n",
      "3 3 7 5 0 3\n",
      "3713\n",
      "--- 0.4292874336242676 seconds ---\n",
      "9\n"
     ]
    }
   ],
   "source": [
    "translateText()"
   ]
  }
 ],
 "metadata": {
  "kernelspec": {
   "display_name": "Python 3",
   "language": "python",
   "name": "python3"
  },
  "language_info": {
   "codemirror_mode": {
    "name": "ipython",
    "version": 3
   },
   "file_extension": ".py",
   "mimetype": "text/x-python",
   "name": "python",
   "nbconvert_exporter": "python",
   "pygments_lexer": "ipython3",
   "version": "3.6.7"
  }
 },
 "nbformat": 4,
 "nbformat_minor": 2
}
