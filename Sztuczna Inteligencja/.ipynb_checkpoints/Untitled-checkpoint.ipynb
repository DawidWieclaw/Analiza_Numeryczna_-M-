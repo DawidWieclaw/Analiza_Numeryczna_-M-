{
 "cells": [
  {
   "cell_type": "code",
   "execution_count": 549,
   "metadata": {},
   "outputs": [],
   "source": [
    "Stack = []\n",
    "Vis = [0]*8"
   ]
  },
  {
   "cell_type": "markdown",
   "metadata": {},
   "source": [
    "## Inicjalizacja tablicy odwiedzonych"
   ]
  },
  {
   "cell_type": "code",
   "execution_count": 550,
   "metadata": {},
   "outputs": [],
   "source": [
    "def reset():\n",
    "    Stack = []\n",
    "    for a in range(len(Vis)):\n",
    "        Vis[a]=[0]*8\n",
    "        for b in range(len(Vis[a])):\n",
    "            Vis[a][b] = [0]*8\n",
    "            for c in range(len(Vis[a][b])):\n",
    "                Vis[a][b][c] = [0]*8\n",
    "                for d in range(len(Vis)):\n",
    "                    Vis[a][b][c][d] = [0]*8\n",
    "                    for e in range(len(Vis)):\n",
    "                        Vis[a][b][c][d][e] = [0]*8\n",
    "reset()"
   ]
  },
  {
   "cell_type": "markdown",
   "metadata": {},
   "source": [
    "## Funkcje wyznaczające możliwe ruchy z danego położenia"
   ]
  },
  {
   "cell_type": "markdown",
   "metadata": {},
   "source": [
    "### Dla czarnego króla"
   ]
  },
  {
   "cell_type": "code",
   "execution_count": 551,
   "metadata": {},
   "outputs": [],
   "source": [
    "def sensBlack(s,i,j):\n",
    "    if i<0 or i>7 or j>7 or j<0: #ruch poza plansze\n",
    "        return False\n",
    "    if i==s.Wtx or j==s.Wty: #pod bicie wieży \n",
    "        return False\n",
    "    if abs(i-s.Wkx)<2 and abs(j-s.Wky)<2:\n",
    "        return False #pod bicie króla\n",
    "    if i==s.Bkx and j==s.Bky: #brak zmiany\n",
    "        return False\n",
    "    return True"
   ]
  },
  {
   "cell_type": "markdown",
   "metadata": {},
   "source": [
    "### Dla Białego Króla"
   ]
  },
  {
   "cell_type": "code",
   "execution_count": 552,
   "metadata": {},
   "outputs": [],
   "source": [
    "def sensWhiteKing(s,i,j): # jeszce wskakiwanie na pola wiezy i krola wzajemne\n",
    "    if i<0 or i>7 or j<0 or j>7: #ruch poza plansze\n",
    "        return False\n",
    "    if i==s.Wkx and j==s.Wky: #brak zmiany\n",
    "        return False\n",
    "    if abs(i-s.Bkx)<2 and abs(j-s.Bky)<2: # pod bicie króla\n",
    "        if i==s.Wtx or j==s.Wty: #ale chronione wieża\n",
    "            return True\n",
    "        return False #bez ochrony wieży\n",
    "    return True"
   ]
  },
  {
   "cell_type": "markdown",
   "metadata": {},
   "source": [
    "### Dla białej wieży"
   ]
  },
  {
   "cell_type": "code",
   "execution_count": 553,
   "metadata": {},
   "outputs": [],
   "source": [
    "def sensWhiteTower(s,i,j):\n",
    "    if i==s.Wtx and j==s.Wty: #brak zmiany\n",
    "        return False\n",
    "    if i<0 or j<0 or i>7 or j>7:\n",
    "        return False\n",
    "    if abs(i-s.Bkx)<2 and abs(j-s.Bky)<2: # pod bicie króla\n",
    "        if abs(i-s.Wkx)<2 and abs(j-s.Wky)<2: # chronione królem\n",
    "            return True\n",
    "        return False\n",
    "    return True"
   ]
  },
  {
   "cell_type": "markdown",
   "metadata": {},
   "source": [
    "### Funkcja sprawdzająca czy zachodzi mat (lub pat)"
   ]
  },
  {
   "cell_type": "code",
   "execution_count": 554,
   "metadata": {},
   "outputs": [],
   "source": [
    "def ifMat(s, move): # czy w danej sytuacji wystepuje mat\n",
    "    if move == 0:\n",
    "        return False\n",
    "    sensRuch = s.sensowneRuchy(1)\n",
    "    \n",
    "    b=False\n",
    "    if sensBlack(s, s.Bkx, s.Bky)==False: # czyli jest bicie\n",
    "        b=True\n",
    "    if len(sensRuch)==0: # nie ma sensownych ruchow\n",
    "        if b == True:\n",
    "            return True # mat\n",
    "        else:\n",
    "            return 3.14 # pat\n",
    "    return False # nic\n",
    "    \n",
    "    #for x in sensRuch:#dla kazdego ruchu jest bicie\n",
    "     #   if sensBlack(x, x.Bkx, x.Bky)==3.14:\n",
    "      #      return False\n",
    "    \n",
    "    if b==True:\n",
    "        return True\n",
    "    return 3.14 # pat"
   ]
  },
  {
   "cell_type": "markdown",
   "metadata": {},
   "source": [
    "## Klasa opisująca dane położenie pionków na planszy"
   ]
  },
  {
   "cell_type": "code",
   "execution_count": 555,
   "metadata": {},
   "outputs": [],
   "source": [
    "class Sytuacja:\n",
    "    Bkx,Bky,Wkx,Wky,Wtx,Wty,m,n=0,0,0,0,0,0,0,0 # m = 1 to czarne m = 0  biale\n",
    "    rodzic = 0\n",
    "    odl = 0;\n",
    "    def nadajRodzica(self, s):\n",
    "        self.rodzic = s\n",
    "    def sensowneRuchy(self, m):\n",
    "        sensRuch = []\n",
    "        if m==1: # rusza sie czarny samotny krol\n",
    "            for i in range(self.Bkx-1, self.Bkx+2):\n",
    "                for j in range(self.Bky-1, self.Bky+2):\n",
    "                    if sensBlack(self,i,j):\n",
    "                        q = Sytuacja()\n",
    "                        q.Bkx, q.Bky, q.Wkx, q.Wky, q.Wtx, q.Wty, q.m,q.n=i,j,self.Wkx,self.Wky,self.Wtx,self.Wty,0,self.n+1\n",
    "                        sensRuch.append(q)\n",
    "        else:\n",
    "            for i in range(self.Wkx-1, self.Wkx+2):\n",
    "                for j in range(self.Wky-1, self.Wky+2):\n",
    "                    if sensWhiteKing(self,i,j):\n",
    "                        q = Sytuacja()\n",
    "                        q.Bkx, q.Bky, q.Wkx, q.Wky, q.Wtx, q.Wty, q.m,q.n=self.Bkx,self.Bky,i,j,self.Wtx,self.Wty,1,self.n+1\n",
    "                        sensRuch.append(q)\n",
    "            for i in range(0,8):\n",
    "                if sensWhiteTower(self, i, self.Wty):\n",
    "                    q = Sytuacja()\n",
    "                    q.Bkx, q.Bky, q.Wkx, q.Wky, q.Wtx, q.Wty, q.m,q.n=self.Bkx,self.Bky,self.Wkx,self.Wky,i,self.Wty,1,self.n+1\n",
    "                    sensRuch.append(q)\n",
    "                if sensWhiteTower(self, self.Wtx, i):\n",
    "                    q = Sytuacja()\n",
    "                    q.Bkx, q.Bky, q.Wkx, q.Wky, q.Wtx, q.Wty, q.m,q.n=self.Bkx,self.Bky,self.Wkx,self.Wky,self.Wtx,i,1,self.n+1\n",
    "                    sensRuch.append(q)\n",
    "        return sensRuch"
   ]
  },
  {
   "cell_type": "markdown",
   "metadata": {},
   "source": [
    "## Modyfikacja algorytmu przeszukiwania wszerz szukająca najkrótszej drogi do mata"
   ]
  },
  {
   "cell_type": "code",
   "execution_count": 556,
   "metadata": {},
   "outputs": [],
   "source": [
    "def BFS(word, deb):\n",
    "    reset()\n",
    "    first = Sytuacja()\n",
    "    first.Bkx, first.Bky, first.Wkx, first.Wky, first.Wtx, first.Wty, first.n, first.m=translate(word)\n",
    "    Stack.append(first) ## tutaj korzen bez rodzica\n",
    "    debug = deb\n",
    "\n",
    "    Vis[first.Bkx][first.Bky][first.Wkx][first.Wky][first.Wtx][first.Wty]=1\n",
    "    while len(Stack)>0:\n",
    "        u=Stack.pop(0)\n",
    "        p=ifMat(u, u.m)\n",
    "        if p==True: # mat\n",
    "            if debug:\n",
    "                zwrocRuchy(u)\n",
    "            print(u.n)\n",
    "            return\n",
    "        \n",
    "        if p==3.14: # pat\n",
    "            continue\n",
    "        sensRuch = u.sensowneRuchy(u.m)\n",
    "        #print(len(sensRuch))\n",
    "        for x in sensRuch:\n",
    "            if Vis[x.Bkx][x.Bky][x.Wkx][x.Wky][x.Wtx][x.Wty]==0:\n",
    "                Vis[x.Bkx][x.Bky][x.Wkx][x.Wky][x.Wtx][x.Wty]=1\n",
    "                x.nadajRodzica(u)\n",
    "                Stack.append(x)\n",
    "        #print(len(Stack))\n",
    "        #break\n",
    "    return"
   ]
  },
  {
   "cell_type": "markdown",
   "metadata": {},
   "source": [
    "## Wypisywanie danego położenia"
   ]
  },
  {
   "cell_type": "code",
   "execution_count": 557,
   "metadata": {},
   "outputs": [],
   "source": [
    "def wypiszWsp(q):\n",
    "    print(q.Bkx, q.Bky, q.Wkx, q.Wky, q.Wtx, q.Wty)"
   ]
  },
  {
   "cell_type": "markdown",
   "metadata": {},
   "source": [
    "## Zwracanie drogi do danego położenia"
   ]
  },
  {
   "cell_type": "code",
   "execution_count": 558,
   "metadata": {},
   "outputs": [],
   "source": [
    "def zwrocRuchy(s):\n",
    "    wypiszWsp(s)\n",
    "    if not s.rodzic==0:\n",
    "        zwrocRuchy(s.rodzic)"
   ]
  },
  {
   "cell_type": "code",
   "execution_count": 559,
   "metadata": {},
   "outputs": [],
   "source": [
    "def translate(word):\n",
    "    T = str.split(word, \" \")\n",
    "    Bkx = ord(T[3][0])-97\n",
    "    Bky = ord(T[3][1])-49\n",
    "    Wkx = ord(T[1][0])-97\n",
    "    Wky = ord(T[1][1])-49\n",
    "    Wtx = ord(T[2][0])-97\n",
    "    Wty = ord(T[2][1])-49\n",
    "    if T[0] == 'black':\n",
    "        m=1\n",
    "    else:\n",
    "        m=0\n",
    "    return Bkx, Bky, Wkx, Wky, Wtx, Wty, 0, m    "
   ]
  },
  {
   "cell_type": "code",
   "execution_count": 560,
   "metadata": {},
   "outputs": [
    {
     "name": "stdout",
     "output_type": "stream",
     "text": [
      "4 0 4 2 2 0\n",
      "4 0 4 2 2 7\n",
      "5 0 4 2 2 7\n",
      "5 0 3 2 2 7\n",
      "6 1 3 2 2 7\n",
      "6 1 2 3 2 7\n",
      "7 2 2 3 2 7\n",
      "6\n"
     ]
    }
   ],
   "source": [
    "BFS('black c4 c8 h3', True)"
   ]
  },
  {
   "cell_type": "code",
   "execution_count": null,
   "metadata": {},
   "outputs": [],
   "source": []
  }
 ],
 "metadata": {
  "kernelspec": {
   "display_name": "Python 3",
   "language": "python",
   "name": "python3"
  },
  "language_info": {
   "codemirror_mode": {
    "name": "ipython",
    "version": 3
   },
   "file_extension": ".py",
   "mimetype": "text/x-python",
   "name": "python",
   "nbconvert_exporter": "python",
   "pygments_lexer": "ipython3",
   "version": "3.6.7"
  }
 },
 "nbformat": 4,
 "nbformat_minor": 2
}
