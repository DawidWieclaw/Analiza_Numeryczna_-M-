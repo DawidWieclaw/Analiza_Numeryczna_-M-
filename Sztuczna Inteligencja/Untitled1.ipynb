{
 "cells": [
  {
   "cell_type": "markdown",
   "metadata": {},
   "source": [
    "## Zadanie 2 "
   ]
  },
  {
   "cell_type": "code",
   "execution_count": 1,
   "metadata": {},
   "outputs": [],
   "source": [
    "Wordsx = set()\n",
    "maxLen = 0\n",
    "slownik=open(\"words_for_ai1.txt\")\n",
    "\n",
    "lines = len ( slownik.readlines ())\n",
    "slownik=open(\"words_for_ai1.txt\")\n",
    "word = slownik.readline()\n",
    "for i in range(0, lines):\n",
    "    word = slownik.readline()\n",
    "    if len(word)>maxLen:\n",
    "        maxLen = len(word)\n",
    "    Wordsx.add(word[0:len(word)-1])"
   ]
  },
  {
   "cell_type": "markdown",
   "metadata": {},
   "source": [
    "## Algorytm rozbijania"
   ]
  },
  {
   "cell_type": "code",
   "execution_count": 30,
   "metadata": {},
   "outputs": [],
   "source": [
    "import copy\n",
    "\n",
    "def dynamicznie(Word, Words, T, maxi):\n",
    "    \n",
    "    Maxval = [] # tablica  z makstymalnymi wartoscioami\n",
    "    Combinations = [] #tablica najlepszych kombinacji\n",
    "    szukaj = ''\n",
    "    \n",
    "    #tworzenie tablicy wartosci i kombinacji\n",
    "    for i in range(0, len(Word)+1): # dla kazdej dlugosic podslowa\n",
    "        Maxval.append(-1)\n",
    "        Combinations.append([])\n",
    "    Maxval[0]=0\n",
    "    \n",
    "    \n",
    "    #zasadnicza czesc algorytmu\n",
    "    length = len(Word)\n",
    "    for i in range(0, length): #dla wszystkich dostepnych pkt startowych do najdluzszego slowa\n",
    "        cei = min(i+maxLen+1, length)\n",
    "        for j in range(i, cei): #dla danego pktu startowego wyklep wszystkie nastepne\n",
    "            szukaj = Word[i:j+1]\n",
    "            if szukaj in Words: # jestesmy w itym pucie szukamy wyrazow dlugosci j\n",
    "                if len(szukaj)*len(szukaj)+Maxval[i]>Maxval[j+1]: #udalo sie znalecz lepsza kombinacje\n",
    "                    Maxval[j+1] = len(szukaj)*len(szukaj)+Maxval[i]\n",
    "                    Combinations[j+1] = copy.copy(Combinations[i]) #zamiana na lepszą kombinacje\n",
    "                    Combinations[j+1].append(szukaj)\n",
    "        \n",
    "        \n",
    "        #jedzie do nastepnego kawalka\n",
    "        i=i+1\n",
    "        while(i<length-1 and Maxval[i]<0): # chyab jedzie kawalek za daleko bo jeszce for to sie da zoptymaizowac\n",
    "            i=i+1\n",
    "\n",
    "    return Combinations[length]        "
   ]
  },
  {
   "cell_type": "code",
   "execution_count": 34,
   "metadata": {},
   "outputs": [],
   "source": [
    "def translateText():\n",
    "    file = open (\"zad2_input.txt\")\n",
    "    lines = len ( file.readlines ())\n",
    "    file = open (\"zad2_input.txt\")\n",
    "    output = open(\"zad2_output.txt\", \"w+\")\n",
    "    for i in range(0, lines):\n",
    "        y = ''\n",
    "        z = file.readline()\n",
    "        x = dynamicznie(z[0:len(z)-1] , Wordsx, [], 0)\n",
    "        for j in range(0, len(x)):\n",
    "            y += x[j] + \" \"\n",
    "        output.write(y)"
   ]
  },
  {
   "cell_type": "code",
   "execution_count": 35,
   "metadata": {
    "scrolled": true
   },
   "outputs": [],
   "source": [
    "translateText()"
   ]
  }
 ],
 "metadata": {
  "kernelspec": {
   "display_name": "Python 3",
   "language": "python",
   "name": "python3"
  },
  "language_info": {
   "codemirror_mode": {
    "name": "ipython",
    "version": 3
   },
   "file_extension": ".py",
   "mimetype": "text/x-python",
   "name": "python",
   "nbconvert_exporter": "python",
   "pygments_lexer": "ipython3",
   "version": "3.6.7"
  }
 },
 "nbformat": 4,
 "nbformat_minor": 2
}
